{
 "cells": [
  {
   "cell_type": "code",
   "execution_count": 674,
   "metadata": {},
   "outputs": [],
   "source": [
    "import pandas as pd\n",
    "\n",
    "from pytrends.request import TrendReq\n",
    "pytrend = TrendReq()\n",
    "\n",
    "from sklearn.decomposition import PCA\n",
    "import statistics as stat\n",
    "import numpy as np\n",
    "import math\n",
    "import time\n",
    "import matplotlib.pyplot as plt\n",
    "import var_treat as vt\n",
    "import plotly.express as px\n",
    "\n",
    "\n",
    "\n",
    "# ###########################################################################\n",
    "\n",
    "# #search_index class gets the monthly search data from google trend using the google tred API\n",
    "# class search_index:\n",
    "\n",
    "#     def __init__(self, word_search, location):\n",
    "#         self.word_search = word_search\n",
    "#         self.location = location\n",
    "\n",
    "#     def df_search_tiator(self):\n",
    "        \n",
    "#         word_search = self.word_search\n",
    "#         geo_code_province = self.location\n",
    "\n",
    "#         #Creating an empty data frame to add search data\n",
    "#         df_search_main = pd.DataFrame()    \n",
    "#         row_length, col_length = df_search_main.shape \n",
    "\n",
    "#         for geo_code_index in geo_code_province:\n",
    "            \n",
    "#             #If the user have list of their own word search \n",
    "#             #otherwise it uses the google search recomendation\n",
    "#             if isinstance(word_search, list) == True:\n",
    "#                 search_queries = word_search\n",
    "\n",
    "#             else:\n",
    "#                 #The initial word search\n",
    "#                 pytrend.build_payload(kw_list=[word_search], timeframe='all', geo=geo_code_index)\n",
    "#                 search_queries = pytrend.related_queries()[word_search]['top']['query'] #this gets the related serch words\n",
    "\n",
    "#                 #the data for the initial search\n",
    "#                 over_time_search = pytrend.interest_over_time()\n",
    "\n",
    "#                 #Inserting data into dataframe\n",
    "#                 df_search_main.insert(col_length, (geo_code_index +'_'+ word_search), over_time_search[word_search], True)\n",
    "#                 row_length, col_length = df_search_main.shape\n",
    "            \n",
    "\n",
    "#             #Loops through the search words\n",
    "#             for rel_query in search_queries:\n",
    "\n",
    "#                 pytrend.build_payload(kw_list=[rel_query], timeframe='all', geo=geo_code_index)\n",
    "#                 rel_query_over_time_search = pytrend.interest_over_time()\n",
    "\n",
    "#                 #Inserting data into dataframe \n",
    "#                 df_search_main.insert(col_length, (geo_code_index +'_'+ rel_query), rel_query_over_time_search[rel_query], True)\n",
    "#                 row_length, col_length = df_search_main.shape\n",
    "#                 time.sleep(2)\n",
    "\n",
    "\n",
    "#         return df_search_main, search_queries\n",
    "\n",
    "\n"
   ]
  },
  {
   "cell_type": "code",
   "execution_count": 675,
   "metadata": {},
   "outputs": [],
   "source": [
    "# df_house_index, search_query = search_index('house for sale',['CA']).df_search_tiator()\n",
    "\n",
    "# with pd.ExcelWriter('search_data.xlsx') as writer:  \n",
    "#     df_house_index[:].to_excel(writer, sheet_name='Raw')"
   ]
  },
  {
   "cell_type": "code",
   "execution_count": 676,
   "metadata": {},
   "outputs": [],
   "source": [
    "#Loading the actual house price data\n",
    "filename = 'search_data.xlsx'\n",
    "\n",
    "xls=pd.ExcelFile(filename) \n",
    "df_house_index = pd.read_excel(xls)"
   ]
  },
  {
   "cell_type": "code",
   "execution_count": 677,
   "metadata": {},
   "outputs": [
    {
     "data": {
      "text/html": [
       "<div>\n",
       "<style scoped>\n",
       "    .dataframe tbody tr th:only-of-type {\n",
       "        vertical-align: middle;\n",
       "    }\n",
       "\n",
       "    .dataframe tbody tr th {\n",
       "        vertical-align: top;\n",
       "    }\n",
       "\n",
       "    .dataframe thead th {\n",
       "        text-align: right;\n",
       "    }\n",
       "</style>\n",
       "<table border=\"1\" class=\"dataframe\">\n",
       "  <thead>\n",
       "    <tr style=\"text-align: right;\">\n",
       "      <th></th>\n",
       "      <th>date</th>\n",
       "      <th>CA_house for sale</th>\n",
       "      <th>CA_house for sale ontario</th>\n",
       "      <th>CA_houses for sale</th>\n",
       "      <th>CA_homes for sale</th>\n",
       "      <th>CA_toronto house for sale</th>\n",
       "      <th>CA_house for sale calgary</th>\n",
       "      <th>CA_house for rent</th>\n",
       "      <th>CA_real estate</th>\n",
       "      <th>CA_kijiji house for sale</th>\n",
       "      <th>...</th>\n",
       "      <th>CA_house for sale mississauga</th>\n",
       "      <th>CA_hamilton house for sale</th>\n",
       "      <th>CA_house for sale in calgary</th>\n",
       "      <th>CA_house for sale in brampton</th>\n",
       "      <th>CA_house for sale in surrey</th>\n",
       "      <th>CA_house for sale windsor</th>\n",
       "      <th>CA_for sale by owner</th>\n",
       "      <th>CA_house for sale by owner</th>\n",
       "      <th>CA_house for sale in toronto</th>\n",
       "      <th>CA_house for sale montreal</th>\n",
       "    </tr>\n",
       "  </thead>\n",
       "  <tbody>\n",
       "    <tr>\n",
       "      <th>72</th>\n",
       "      <td>2010-01-01</td>\n",
       "      <td>14</td>\n",
       "      <td>16</td>\n",
       "      <td>16</td>\n",
       "      <td>32</td>\n",
       "      <td>32</td>\n",
       "      <td>9</td>\n",
       "      <td>35</td>\n",
       "      <td>68</td>\n",
       "      <td>17</td>\n",
       "      <td>...</td>\n",
       "      <td>21</td>\n",
       "      <td>8</td>\n",
       "      <td>12</td>\n",
       "      <td>5</td>\n",
       "      <td>5</td>\n",
       "      <td>8</td>\n",
       "      <td>76</td>\n",
       "      <td>68</td>\n",
       "      <td>22</td>\n",
       "      <td>8</td>\n",
       "    </tr>\n",
       "    <tr>\n",
       "      <th>73</th>\n",
       "      <td>2010-02-01</td>\n",
       "      <td>14</td>\n",
       "      <td>21</td>\n",
       "      <td>16</td>\n",
       "      <td>29</td>\n",
       "      <td>36</td>\n",
       "      <td>14</td>\n",
       "      <td>31</td>\n",
       "      <td>64</td>\n",
       "      <td>18</td>\n",
       "      <td>...</td>\n",
       "      <td>27</td>\n",
       "      <td>12</td>\n",
       "      <td>14</td>\n",
       "      <td>8</td>\n",
       "      <td>2</td>\n",
       "      <td>4</td>\n",
       "      <td>77</td>\n",
       "      <td>45</td>\n",
       "      <td>33</td>\n",
       "      <td>10</td>\n",
       "    </tr>\n",
       "    <tr>\n",
       "      <th>74</th>\n",
       "      <td>2010-03-01</td>\n",
       "      <td>16</td>\n",
       "      <td>21</td>\n",
       "      <td>18</td>\n",
       "      <td>32</td>\n",
       "      <td>39</td>\n",
       "      <td>15</td>\n",
       "      <td>38</td>\n",
       "      <td>73</td>\n",
       "      <td>26</td>\n",
       "      <td>...</td>\n",
       "      <td>22</td>\n",
       "      <td>16</td>\n",
       "      <td>14</td>\n",
       "      <td>16</td>\n",
       "      <td>2</td>\n",
       "      <td>12</td>\n",
       "      <td>82</td>\n",
       "      <td>42</td>\n",
       "      <td>49</td>\n",
       "      <td>15</td>\n",
       "    </tr>\n",
       "    <tr>\n",
       "      <th>75</th>\n",
       "      <td>2010-04-01</td>\n",
       "      <td>18</td>\n",
       "      <td>29</td>\n",
       "      <td>18</td>\n",
       "      <td>34</td>\n",
       "      <td>38</td>\n",
       "      <td>13</td>\n",
       "      <td>36</td>\n",
       "      <td>72</td>\n",
       "      <td>19</td>\n",
       "      <td>...</td>\n",
       "      <td>26</td>\n",
       "      <td>15</td>\n",
       "      <td>15</td>\n",
       "      <td>14</td>\n",
       "      <td>1</td>\n",
       "      <td>20</td>\n",
       "      <td>87</td>\n",
       "      <td>60</td>\n",
       "      <td>33</td>\n",
       "      <td>24</td>\n",
       "    </tr>\n",
       "    <tr>\n",
       "      <th>76</th>\n",
       "      <td>2010-05-01</td>\n",
       "      <td>16</td>\n",
       "      <td>21</td>\n",
       "      <td>17</td>\n",
       "      <td>32</td>\n",
       "      <td>53</td>\n",
       "      <td>11</td>\n",
       "      <td>36</td>\n",
       "      <td>67</td>\n",
       "      <td>18</td>\n",
       "      <td>...</td>\n",
       "      <td>26</td>\n",
       "      <td>8</td>\n",
       "      <td>6</td>\n",
       "      <td>11</td>\n",
       "      <td>4</td>\n",
       "      <td>18</td>\n",
       "      <td>80</td>\n",
       "      <td>43</td>\n",
       "      <td>53</td>\n",
       "      <td>17</td>\n",
       "    </tr>\n",
       "    <tr>\n",
       "      <th>...</th>\n",
       "      <td>...</td>\n",
       "      <td>...</td>\n",
       "      <td>...</td>\n",
       "      <td>...</td>\n",
       "      <td>...</td>\n",
       "      <td>...</td>\n",
       "      <td>...</td>\n",
       "      <td>...</td>\n",
       "      <td>...</td>\n",
       "      <td>...</td>\n",
       "      <td>...</td>\n",
       "      <td>...</td>\n",
       "      <td>...</td>\n",
       "      <td>...</td>\n",
       "      <td>...</td>\n",
       "      <td>...</td>\n",
       "      <td>...</td>\n",
       "      <td>...</td>\n",
       "      <td>...</td>\n",
       "      <td>...</td>\n",
       "      <td>...</td>\n",
       "    </tr>\n",
       "    <tr>\n",
       "      <th>218</th>\n",
       "      <td>2022-03-01</td>\n",
       "      <td>79</td>\n",
       "      <td>75</td>\n",
       "      <td>82</td>\n",
       "      <td>81</td>\n",
       "      <td>59</td>\n",
       "      <td>79</td>\n",
       "      <td>73</td>\n",
       "      <td>61</td>\n",
       "      <td>46</td>\n",
       "      <td>...</td>\n",
       "      <td>72</td>\n",
       "      <td>70</td>\n",
       "      <td>74</td>\n",
       "      <td>55</td>\n",
       "      <td>42</td>\n",
       "      <td>82</td>\n",
       "      <td>44</td>\n",
       "      <td>28</td>\n",
       "      <td>52</td>\n",
       "      <td>75</td>\n",
       "    </tr>\n",
       "    <tr>\n",
       "      <th>219</th>\n",
       "      <td>2022-04-01</td>\n",
       "      <td>80</td>\n",
       "      <td>73</td>\n",
       "      <td>75</td>\n",
       "      <td>82</td>\n",
       "      <td>61</td>\n",
       "      <td>69</td>\n",
       "      <td>67</td>\n",
       "      <td>60</td>\n",
       "      <td>41</td>\n",
       "      <td>...</td>\n",
       "      <td>51</td>\n",
       "      <td>70</td>\n",
       "      <td>61</td>\n",
       "      <td>62</td>\n",
       "      <td>41</td>\n",
       "      <td>73</td>\n",
       "      <td>43</td>\n",
       "      <td>31</td>\n",
       "      <td>54</td>\n",
       "      <td>76</td>\n",
       "    </tr>\n",
       "    <tr>\n",
       "      <th>220</th>\n",
       "      <td>2022-05-01</td>\n",
       "      <td>74</td>\n",
       "      <td>70</td>\n",
       "      <td>73</td>\n",
       "      <td>73</td>\n",
       "      <td>63</td>\n",
       "      <td>60</td>\n",
       "      <td>68</td>\n",
       "      <td>57</td>\n",
       "      <td>40</td>\n",
       "      <td>...</td>\n",
       "      <td>54</td>\n",
       "      <td>69</td>\n",
       "      <td>53</td>\n",
       "      <td>54</td>\n",
       "      <td>43</td>\n",
       "      <td>67</td>\n",
       "      <td>40</td>\n",
       "      <td>19</td>\n",
       "      <td>47</td>\n",
       "      <td>60</td>\n",
       "    </tr>\n",
       "    <tr>\n",
       "      <th>221</th>\n",
       "      <td>2022-06-01</td>\n",
       "      <td>72</td>\n",
       "      <td>69</td>\n",
       "      <td>72</td>\n",
       "      <td>73</td>\n",
       "      <td>62</td>\n",
       "      <td>65</td>\n",
       "      <td>67</td>\n",
       "      <td>55</td>\n",
       "      <td>40</td>\n",
       "      <td>...</td>\n",
       "      <td>61</td>\n",
       "      <td>56</td>\n",
       "      <td>66</td>\n",
       "      <td>58</td>\n",
       "      <td>45</td>\n",
       "      <td>62</td>\n",
       "      <td>38</td>\n",
       "      <td>23</td>\n",
       "      <td>51</td>\n",
       "      <td>59</td>\n",
       "    </tr>\n",
       "    <tr>\n",
       "      <th>222</th>\n",
       "      <td>2022-07-01</td>\n",
       "      <td>71</td>\n",
       "      <td>70</td>\n",
       "      <td>72</td>\n",
       "      <td>72</td>\n",
       "      <td>59</td>\n",
       "      <td>68</td>\n",
       "      <td>68</td>\n",
       "      <td>55</td>\n",
       "      <td>37</td>\n",
       "      <td>...</td>\n",
       "      <td>56</td>\n",
       "      <td>50</td>\n",
       "      <td>67</td>\n",
       "      <td>58</td>\n",
       "      <td>56</td>\n",
       "      <td>75</td>\n",
       "      <td>39</td>\n",
       "      <td>21</td>\n",
       "      <td>57</td>\n",
       "      <td>56</td>\n",
       "    </tr>\n",
       "  </tbody>\n",
       "</table>\n",
       "<p>151 rows × 27 columns</p>\n",
       "</div>"
      ],
      "text/plain": [
       "          date  CA_house for sale  CA_house for sale ontario  \\\n",
       "72  2010-01-01                 14                         16   \n",
       "73  2010-02-01                 14                         21   \n",
       "74  2010-03-01                 16                         21   \n",
       "75  2010-04-01                 18                         29   \n",
       "76  2010-05-01                 16                         21   \n",
       "..         ...                ...                        ...   \n",
       "218 2022-03-01                 79                         75   \n",
       "219 2022-04-01                 80                         73   \n",
       "220 2022-05-01                 74                         70   \n",
       "221 2022-06-01                 72                         69   \n",
       "222 2022-07-01                 71                         70   \n",
       "\n",
       "     CA_houses for sale  CA_homes for sale  CA_toronto house for sale  \\\n",
       "72                   16                 32                         32   \n",
       "73                   16                 29                         36   \n",
       "74                   18                 32                         39   \n",
       "75                   18                 34                         38   \n",
       "76                   17                 32                         53   \n",
       "..                  ...                ...                        ...   \n",
       "218                  82                 81                         59   \n",
       "219                  75                 82                         61   \n",
       "220                  73                 73                         63   \n",
       "221                  72                 73                         62   \n",
       "222                  72                 72                         59   \n",
       "\n",
       "     CA_house for sale calgary  CA_house for rent  CA_real estate  \\\n",
       "72                           9                 35              68   \n",
       "73                          14                 31              64   \n",
       "74                          15                 38              73   \n",
       "75                          13                 36              72   \n",
       "76                          11                 36              67   \n",
       "..                         ...                ...             ...   \n",
       "218                         79                 73              61   \n",
       "219                         69                 67              60   \n",
       "220                         60                 68              57   \n",
       "221                         65                 67              55   \n",
       "222                         68                 68              55   \n",
       "\n",
       "     CA_kijiji house for sale  ...  CA_house for sale mississauga  \\\n",
       "72                         17  ...                             21   \n",
       "73                         18  ...                             27   \n",
       "74                         26  ...                             22   \n",
       "75                         19  ...                             26   \n",
       "76                         18  ...                             26   \n",
       "..                        ...  ...                            ...   \n",
       "218                        46  ...                             72   \n",
       "219                        41  ...                             51   \n",
       "220                        40  ...                             54   \n",
       "221                        40  ...                             61   \n",
       "222                        37  ...                             56   \n",
       "\n",
       "     CA_hamilton house for sale  CA_house for sale in calgary  \\\n",
       "72                            8                            12   \n",
       "73                           12                            14   \n",
       "74                           16                            14   \n",
       "75                           15                            15   \n",
       "76                            8                             6   \n",
       "..                          ...                           ...   \n",
       "218                          70                            74   \n",
       "219                          70                            61   \n",
       "220                          69                            53   \n",
       "221                          56                            66   \n",
       "222                          50                            67   \n",
       "\n",
       "     CA_house for sale in brampton  CA_house for sale in surrey  \\\n",
       "72                               5                            5   \n",
       "73                               8                            2   \n",
       "74                              16                            2   \n",
       "75                              14                            1   \n",
       "76                              11                            4   \n",
       "..                             ...                          ...   \n",
       "218                             55                           42   \n",
       "219                             62                           41   \n",
       "220                             54                           43   \n",
       "221                             58                           45   \n",
       "222                             58                           56   \n",
       "\n",
       "     CA_house for sale windsor  CA_for sale by owner  \\\n",
       "72                           8                    76   \n",
       "73                           4                    77   \n",
       "74                          12                    82   \n",
       "75                          20                    87   \n",
       "76                          18                    80   \n",
       "..                         ...                   ...   \n",
       "218                         82                    44   \n",
       "219                         73                    43   \n",
       "220                         67                    40   \n",
       "221                         62                    38   \n",
       "222                         75                    39   \n",
       "\n",
       "     CA_house for sale by owner  CA_house for sale in toronto  \\\n",
       "72                           68                            22   \n",
       "73                           45                            33   \n",
       "74                           42                            49   \n",
       "75                           60                            33   \n",
       "76                           43                            53   \n",
       "..                          ...                           ...   \n",
       "218                          28                            52   \n",
       "219                          31                            54   \n",
       "220                          19                            47   \n",
       "221                          23                            51   \n",
       "222                          21                            57   \n",
       "\n",
       "     CA_house for sale montreal  \n",
       "72                            8  \n",
       "73                           10  \n",
       "74                           15  \n",
       "75                           24  \n",
       "76                           17  \n",
       "..                          ...  \n",
       "218                          75  \n",
       "219                          76  \n",
       "220                          60  \n",
       "221                          59  \n",
       "222                          56  \n",
       "\n",
       "[151 rows x 27 columns]"
      ]
     },
     "execution_count": 677,
     "metadata": {},
     "output_type": "execute_result"
    }
   ],
   "source": [
    "df_house_index[72:]"
   ]
  },
  {
   "cell_type": "code",
   "execution_count": 678,
   "metadata": {},
   "outputs": [],
   "source": [
    "\n",
    "def median_tinator(df):\n",
    "    \n",
    "    #Demeaning\n",
    "    for values in df.columns.values:\n",
    "        u = stat.mean(df[values])\n",
    "        std = stat.stdev(df[values])\n",
    "\n",
    "        df[values] = (((df[values] - u)/std) +10)\n",
    "\n",
    "    #This on is with base year\n",
    "    df = df.apply(lambda x: np.floor(((x)/x.iloc[0] * 100)))\n",
    "\n",
    "    #calculating the median\n",
    "    arr = []\n",
    "    for x in df.T.columns.values:    \n",
    "        arr.append(stat.median(df.T[x]))\n",
    "\n",
    "    #Putting the array in dataframe\n",
    "    df_index = pd.DataFrame({'index':arr})\n",
    "    df_index = df_index.set_index(pd.Index(df.T.columns.values[:]))\n",
    "\n",
    "    return df_index\n",
    "\n",
    "\n"
   ]
  },
  {
   "cell_type": "code",
   "execution_count": 679,
   "metadata": {},
   "outputs": [],
   "source": [
    "df_house_index = median_tinator(df_house_index.iloc[72:,1:])\n"
   ]
  },
  {
   "cell_type": "markdown",
   "metadata": {},
   "source": [
    "Gold Mine"
   ]
  },
  {
   "cell_type": "code",
   "execution_count": 680,
   "metadata": {},
   "outputs": [],
   "source": [
    "#df_house_index_ma = df_house_index.rolling(window =20).mean() #this is working\n",
    "\n",
    "df_house_index_ma = vt.Deseasonalize_STL(df_house_index).rolling(window =20).mean()\n",
    "\n",
    "#df_house_index_ma = vt.ExpSmoother(vt.Deseasonalize_STL(df_house_index)).rolling(window =20).mean() \n",
    "\n",
    "#df_house_index_ma = df_house_index.rolling(window =20).mean() "
   ]
  },
  {
   "cell_type": "code",
   "execution_count": 681,
   "metadata": {},
   "outputs": [],
   "source": [
    "\n",
    "# df_house_index_ma = vt.Deseasonalize_STL(df_house_index).rolling(window =20).mean() #this is working\n",
    "# df_house_index_ma['Deseason'] = vt.ExpSmoother(vt.Deseasonalize_STL(df_house_index)).rolling(window =20).mean() #this is working\n",
    "# df_house_index_ma['original'] = df_house_index #this is working\n",
    "# fig = px.line(df_house_index_ma, color='variable',labels=dict(index=\"time\", value=\"Level\", variable=\"option\"), width=900, height=400)\n",
    "# fig.show()"
   ]
  },
  {
   "cell_type": "code",
   "execution_count": 682,
   "metadata": {},
   "outputs": [
    {
     "data": {
      "text/html": [
       "<div>\n",
       "<style scoped>\n",
       "    .dataframe tbody tr th:only-of-type {\n",
       "        vertical-align: middle;\n",
       "    }\n",
       "\n",
       "    .dataframe tbody tr th {\n",
       "        vertical-align: top;\n",
       "    }\n",
       "\n",
       "    .dataframe thead th {\n",
       "        text-align: right;\n",
       "    }\n",
       "</style>\n",
       "<table border=\"1\" class=\"dataframe\">\n",
       "  <thead>\n",
       "    <tr style=\"text-align: right;\">\n",
       "      <th></th>\n",
       "      <th>index</th>\n",
       "    </tr>\n",
       "  </thead>\n",
       "  <tbody>\n",
       "    <tr>\n",
       "      <th>72</th>\n",
       "      <td>100.0</td>\n",
       "    </tr>\n",
       "    <tr>\n",
       "      <th>73</th>\n",
       "      <td>100.5</td>\n",
       "    </tr>\n",
       "    <tr>\n",
       "      <th>74</th>\n",
       "      <td>101.5</td>\n",
       "    </tr>\n",
       "    <tr>\n",
       "      <th>75</th>\n",
       "      <td>103.0</td>\n",
       "    </tr>\n",
       "    <tr>\n",
       "      <th>76</th>\n",
       "      <td>101.5</td>\n",
       "    </tr>\n",
       "    <tr>\n",
       "      <th>...</th>\n",
       "      <td>...</td>\n",
       "    </tr>\n",
       "    <tr>\n",
       "      <th>218</th>\n",
       "      <td>129.0</td>\n",
       "    </tr>\n",
       "    <tr>\n",
       "      <th>219</th>\n",
       "      <td>129.0</td>\n",
       "    </tr>\n",
       "    <tr>\n",
       "      <th>220</th>\n",
       "      <td>126.5</td>\n",
       "    </tr>\n",
       "    <tr>\n",
       "      <th>221</th>\n",
       "      <td>127.5</td>\n",
       "    </tr>\n",
       "    <tr>\n",
       "      <th>222</th>\n",
       "      <td>128.0</td>\n",
       "    </tr>\n",
       "  </tbody>\n",
       "</table>\n",
       "<p>151 rows × 1 columns</p>\n",
       "</div>"
      ],
      "text/plain": [
       "     index\n",
       "72   100.0\n",
       "73   100.5\n",
       "74   101.5\n",
       "75   103.0\n",
       "76   101.5\n",
       "..     ...\n",
       "218  129.0\n",
       "219  129.0\n",
       "220  126.5\n",
       "221  127.5\n",
       "222  128.0\n",
       "\n",
       "[151 rows x 1 columns]"
      ]
     },
     "execution_count": 682,
     "metadata": {},
     "output_type": "execute_result"
    }
   ],
   "source": [
    "df_house_index[:]"
   ]
  },
  {
   "cell_type": "code",
   "execution_count": 683,
   "metadata": {},
   "outputs": [
    {
     "data": {
      "text/html": [
       "<div>\n",
       "<style scoped>\n",
       "    .dataframe tbody tr th:only-of-type {\n",
       "        vertical-align: middle;\n",
       "    }\n",
       "\n",
       "    .dataframe tbody tr th {\n",
       "        vertical-align: top;\n",
       "    }\n",
       "\n",
       "    .dataframe thead th {\n",
       "        text-align: right;\n",
       "    }\n",
       "</style>\n",
       "<table border=\"1\" class=\"dataframe\">\n",
       "  <thead>\n",
       "    <tr style=\"text-align: right;\">\n",
       "      <th></th>\n",
       "      <th>index</th>\n",
       "    </tr>\n",
       "  </thead>\n",
       "  <tbody>\n",
       "    <tr>\n",
       "      <th>72</th>\n",
       "      <td>NaN</td>\n",
       "    </tr>\n",
       "    <tr>\n",
       "      <th>73</th>\n",
       "      <td>NaN</td>\n",
       "    </tr>\n",
       "    <tr>\n",
       "      <th>74</th>\n",
       "      <td>NaN</td>\n",
       "    </tr>\n",
       "    <tr>\n",
       "      <th>75</th>\n",
       "      <td>NaN</td>\n",
       "    </tr>\n",
       "    <tr>\n",
       "      <th>76</th>\n",
       "      <td>NaN</td>\n",
       "    </tr>\n",
       "    <tr>\n",
       "      <th>...</th>\n",
       "      <td>...</td>\n",
       "    </tr>\n",
       "    <tr>\n",
       "      <th>218</th>\n",
       "      <td>131.257009</td>\n",
       "    </tr>\n",
       "    <tr>\n",
       "      <th>219</th>\n",
       "      <td>131.012609</td>\n",
       "    </tr>\n",
       "    <tr>\n",
       "      <th>220</th>\n",
       "      <td>130.819790</td>\n",
       "    </tr>\n",
       "    <tr>\n",
       "      <th>221</th>\n",
       "      <td>130.664080</td>\n",
       "    </tr>\n",
       "    <tr>\n",
       "      <th>222</th>\n",
       "      <td>130.528419</td>\n",
       "    </tr>\n",
       "  </tbody>\n",
       "</table>\n",
       "<p>151 rows × 1 columns</p>\n",
       "</div>"
      ],
      "text/plain": [
       "          index\n",
       "72          NaN\n",
       "73          NaN\n",
       "74          NaN\n",
       "75          NaN\n",
       "76          NaN\n",
       "..          ...\n",
       "218  131.257009\n",
       "219  131.012609\n",
       "220  130.819790\n",
       "221  130.664080\n",
       "222  130.528419\n",
       "\n",
       "[151 rows x 1 columns]"
      ]
     },
     "execution_count": 683,
     "metadata": {},
     "output_type": "execute_result"
    }
   ],
   "source": [
    "df_house_index_ma"
   ]
  },
  {
   "cell_type": "code",
   "execution_count": 684,
   "metadata": {},
   "outputs": [],
   "source": [
    "#Loading the actual house price data\n",
    "#filename = 'Canada New House Price.xlsx'\n",
    "filename = 'hp_2.xlsx'\n",
    "\n",
    "xls=pd.ExcelFile(filename) \n",
    "df_hp = pd.read_excel(xls)\n",
    "df_hp = df_hp.set_index(pd.Index(df_house_index.T.columns.values[:150])).iloc[:,:]"
   ]
  },
  {
   "cell_type": "code",
   "execution_count": 685,
   "metadata": {},
   "outputs": [
    {
     "data": {
      "text/html": [
       "<div>\n",
       "<style scoped>\n",
       "    .dataframe tbody tr th:only-of-type {\n",
       "        vertical-align: middle;\n",
       "    }\n",
       "\n",
       "    .dataframe tbody tr th {\n",
       "        vertical-align: top;\n",
       "    }\n",
       "\n",
       "    .dataframe thead th {\n",
       "        text-align: right;\n",
       "    }\n",
       "</style>\n",
       "<table border=\"1\" class=\"dataframe\">\n",
       "  <thead>\n",
       "    <tr style=\"text-align: right;\">\n",
       "      <th></th>\n",
       "      <th>Date</th>\n",
       "      <th>Price</th>\n",
       "    </tr>\n",
       "  </thead>\n",
       "  <tbody>\n",
       "    <tr>\n",
       "      <th>72</th>\n",
       "      <td>2010-01-01</td>\n",
       "      <td>100.000000</td>\n",
       "    </tr>\n",
       "    <tr>\n",
       "      <th>73</th>\n",
       "      <td>2010-02-01</td>\n",
       "      <td>100.000000</td>\n",
       "    </tr>\n",
       "    <tr>\n",
       "      <th>74</th>\n",
       "      <td>2010-03-01</td>\n",
       "      <td>100.344432</td>\n",
       "    </tr>\n",
       "    <tr>\n",
       "      <th>75</th>\n",
       "      <td>2010-04-01</td>\n",
       "      <td>100.574053</td>\n",
       "    </tr>\n",
       "    <tr>\n",
       "      <th>76</th>\n",
       "      <td>2010-05-01</td>\n",
       "      <td>100.918485</td>\n",
       "    </tr>\n",
       "    <tr>\n",
       "      <th>...</th>\n",
       "      <td>...</td>\n",
       "      <td>...</td>\n",
       "    </tr>\n",
       "    <tr>\n",
       "      <th>217</th>\n",
       "      <td>2022-02-01</td>\n",
       "      <td>141.446613</td>\n",
       "    </tr>\n",
       "    <tr>\n",
       "      <th>218</th>\n",
       "      <td>2022-03-01</td>\n",
       "      <td>143.168772</td>\n",
       "    </tr>\n",
       "    <tr>\n",
       "      <th>219</th>\n",
       "      <td>2022-04-01</td>\n",
       "      <td>143.628014</td>\n",
       "    </tr>\n",
       "    <tr>\n",
       "      <th>220</th>\n",
       "      <td>2022-05-01</td>\n",
       "      <td>144.316877</td>\n",
       "    </tr>\n",
       "    <tr>\n",
       "      <th>221</th>\n",
       "      <td>2022-06-01</td>\n",
       "      <td>144.546498</td>\n",
       "    </tr>\n",
       "  </tbody>\n",
       "</table>\n",
       "<p>150 rows × 2 columns</p>\n",
       "</div>"
      ],
      "text/plain": [
       "          Date       Price\n",
       "72  2010-01-01  100.000000\n",
       "73  2010-02-01  100.000000\n",
       "74  2010-03-01  100.344432\n",
       "75  2010-04-01  100.574053\n",
       "76  2010-05-01  100.918485\n",
       "..         ...         ...\n",
       "217 2022-02-01  141.446613\n",
       "218 2022-03-01  143.168772\n",
       "219 2022-04-01  143.628014\n",
       "220 2022-05-01  144.316877\n",
       "221 2022-06-01  144.546498\n",
       "\n",
       "[150 rows x 2 columns]"
      ]
     },
     "execution_count": 685,
     "metadata": {},
     "output_type": "execute_result"
    }
   ],
   "source": [
    "df_hp"
   ]
  },
  {
   "cell_type": "code",
   "execution_count": 686,
   "metadata": {},
   "outputs": [
    {
     "data": {
      "image/png": "[encoded data removed]",
      "text/plain": [
       "<Figure size 1080x720 with 1 Axes>"
      ]
     },
     "metadata": {},
     "output_type": "display_data"
    }
   ],
   "source": [
    "with plt.style.context('Solarize_Light2'):\n",
    "    plt.rcParams['figure.figsize'] = [15, 10]\n",
    "    \n",
    "    # plt.plot(df_house_index_ma[:], color='orange')\n",
    "    # plt.plot(df_house_index[:], color='purple')\n",
    "    # plt.plot(df_hp.iloc[:,1:], color='blue', alpha=0.5)\n",
    "\n",
    "    plt.plot(df_house_index_ma[:].pct_change(), color='orange')\n",
    "    #plt.plot(df_house_index[:].pct_change(), color='purple')\n",
    "    plt.plot(df_hp.iloc[:,1:].pct_change(), color='blue', alpha=0.5)\n",
    "    \n",
    "    #Labling the plot\n",
    "    plt.title('Canada House Search Index [Canada]')\n",
    "    plt.ylabel('level changes', fontsize=12)\n",
    "    plt.legend(['HSI Moving Avg','HSI','House Price'], loc='upper center', bbox_to_anchor=(0.5, -0.06),\n",
    "          fancybox=True, shadow=True, ncol=4)\n",
    "\n",
    "plt.show()"
   ]
  },
  {
   "cell_type": "code",
   "execution_count": 687,
   "metadata": {},
   "outputs": [
    {
     "data": {
      "text/html": [
       "<div>\n",
       "<style scoped>\n",
       "    .dataframe tbody tr th:only-of-type {\n",
       "        vertical-align: middle;\n",
       "    }\n",
       "\n",
       "    .dataframe tbody tr th {\n",
       "        vertical-align: top;\n",
       "    }\n",
       "\n",
       "    .dataframe thead th {\n",
       "        text-align: right;\n",
       "    }\n",
       "</style>\n",
       "<table border=\"1\" class=\"dataframe\">\n",
       "  <thead>\n",
       "    <tr style=\"text-align: right;\">\n",
       "      <th></th>\n",
       "      <th>index</th>\n",
       "    </tr>\n",
       "  </thead>\n",
       "  <tbody>\n",
       "    <tr>\n",
       "      <th>91</th>\n",
       "      <td>101.428594</td>\n",
       "    </tr>\n",
       "    <tr>\n",
       "      <th>92</th>\n",
       "      <td>101.790859</td>\n",
       "    </tr>\n",
       "    <tr>\n",
       "      <th>93</th>\n",
       "      <td>102.111238</td>\n",
       "    </tr>\n",
       "    <tr>\n",
       "      <th>94</th>\n",
       "      <td>102.474935</td>\n",
       "    </tr>\n",
       "    <tr>\n",
       "      <th>95</th>\n",
       "      <td>102.773294</td>\n",
       "    </tr>\n",
       "    <tr>\n",
       "      <th>...</th>\n",
       "      <td>...</td>\n",
       "    </tr>\n",
       "    <tr>\n",
       "      <th>218</th>\n",
       "      <td>131.257009</td>\n",
       "    </tr>\n",
       "    <tr>\n",
       "      <th>219</th>\n",
       "      <td>131.012609</td>\n",
       "    </tr>\n",
       "    <tr>\n",
       "      <th>220</th>\n",
       "      <td>130.819790</td>\n",
       "    </tr>\n",
       "    <tr>\n",
       "      <th>221</th>\n",
       "      <td>130.664080</td>\n",
       "    </tr>\n",
       "    <tr>\n",
       "      <th>222</th>\n",
       "      <td>130.528419</td>\n",
       "    </tr>\n",
       "  </tbody>\n",
       "</table>\n",
       "<p>132 rows × 1 columns</p>\n",
       "</div>"
      ],
      "text/plain": [
       "          index\n",
       "91   101.428594\n",
       "92   101.790859\n",
       "93   102.111238\n",
       "94   102.474935\n",
       "95   102.773294\n",
       "..          ...\n",
       "218  131.257009\n",
       "219  131.012609\n",
       "220  130.819790\n",
       "221  130.664080\n",
       "222  130.528419\n",
       "\n",
       "[132 rows x 1 columns]"
      ]
     },
     "execution_count": 687,
     "metadata": {},
     "output_type": "execute_result"
    }
   ],
   "source": [
    "test_df = df_house_index_ma.dropna()\n",
    "test_df"
   ]
  },
  {
   "cell_type": "code",
   "execution_count": 688,
   "metadata": {},
   "outputs": [
    {
     "data": {
      "text/html": [
       "<div>\n",
       "<style scoped>\n",
       "    .dataframe tbody tr th:only-of-type {\n",
       "        vertical-align: middle;\n",
       "    }\n",
       "\n",
       "    .dataframe tbody tr th {\n",
       "        vertical-align: top;\n",
       "    }\n",
       "\n",
       "    .dataframe thead th {\n",
       "        text-align: right;\n",
       "    }\n",
       "</style>\n",
       "<table border=\"1\" class=\"dataframe\">\n",
       "  <thead>\n",
       "    <tr style=\"text-align: right;\">\n",
       "      <th></th>\n",
       "      <th>Date</th>\n",
       "      <th>Price</th>\n",
       "    </tr>\n",
       "  </thead>\n",
       "  <tbody>\n",
       "    <tr>\n",
       "      <th>91</th>\n",
       "      <td>2011-08-01</td>\n",
       "      <td>103.329506</td>\n",
       "    </tr>\n",
       "    <tr>\n",
       "      <th>92</th>\n",
       "      <td>2011-09-01</td>\n",
       "      <td>103.444317</td>\n",
       "    </tr>\n",
       "    <tr>\n",
       "      <th>93</th>\n",
       "      <td>2011-10-01</td>\n",
       "      <td>103.673938</td>\n",
       "    </tr>\n",
       "    <tr>\n",
       "      <th>94</th>\n",
       "      <td>2011-11-01</td>\n",
       "      <td>104.018370</td>\n",
       "    </tr>\n",
       "    <tr>\n",
       "      <th>95</th>\n",
       "      <td>2011-12-01</td>\n",
       "      <td>104.133180</td>\n",
       "    </tr>\n",
       "    <tr>\n",
       "      <th>...</th>\n",
       "      <td>...</td>\n",
       "      <td>...</td>\n",
       "    </tr>\n",
       "    <tr>\n",
       "      <th>217</th>\n",
       "      <td>2022-02-01</td>\n",
       "      <td>141.446613</td>\n",
       "    </tr>\n",
       "    <tr>\n",
       "      <th>218</th>\n",
       "      <td>2022-03-01</td>\n",
       "      <td>143.168772</td>\n",
       "    </tr>\n",
       "    <tr>\n",
       "      <th>219</th>\n",
       "      <td>2022-04-01</td>\n",
       "      <td>143.628014</td>\n",
       "    </tr>\n",
       "    <tr>\n",
       "      <th>220</th>\n",
       "      <td>2022-05-01</td>\n",
       "      <td>144.316877</td>\n",
       "    </tr>\n",
       "    <tr>\n",
       "      <th>221</th>\n",
       "      <td>2022-06-01</td>\n",
       "      <td>144.546498</td>\n",
       "    </tr>\n",
       "  </tbody>\n",
       "</table>\n",
       "<p>131 rows × 2 columns</p>\n",
       "</div>"
      ],
      "text/plain": [
       "          Date       Price\n",
       "91  2011-08-01  103.329506\n",
       "92  2011-09-01  103.444317\n",
       "93  2011-10-01  103.673938\n",
       "94  2011-11-01  104.018370\n",
       "95  2011-12-01  104.133180\n",
       "..         ...         ...\n",
       "217 2022-02-01  141.446613\n",
       "218 2022-03-01  143.168772\n",
       "219 2022-04-01  143.628014\n",
       "220 2022-05-01  144.316877\n",
       "221 2022-06-01  144.546498\n",
       "\n",
       "[131 rows x 2 columns]"
      ]
     },
     "execution_count": 688,
     "metadata": {},
     "output_type": "execute_result"
    }
   ],
   "source": [
    "test_hp = df_hp[19:]\n",
    "test_hp"
   ]
  },
  {
   "cell_type": "code",
   "execution_count": 689,
   "metadata": {},
   "outputs": [],
   "source": [
    "test_hp = test_hp.set_index(pd.Index(test_df.T.columns.values[:131])).iloc[:,1:].pct_change()"
   ]
  },
  {
   "cell_type": "code",
   "execution_count": 690,
   "metadata": {},
   "outputs": [],
   "source": [
    "\n",
    "import pandas as pd\n",
    "\n",
    "#input for this is (dataframe, dictionary for the lagg values)\n",
    "def data_process_tinator(df,var_lagg_values):\n",
    "    for var in var_lagg_values:\n",
    "\n",
    "        lagg_value = var_lagg_values[var]\n",
    "\n",
    "        df[var] = df[var].shift(periods=-lagg_value)\n",
    "        \n",
    "    df_processed = df.dropna()\n",
    "\n",
    "    return df_processed\n",
    "\n"
   ]
  },
  {
   "cell_type": "code",
   "execution_count": 691,
   "metadata": {},
   "outputs": [],
   "source": [
    "df_combine = test_df[:221].pct_change()"
   ]
  },
  {
   "cell_type": "code",
   "execution_count": 692,
   "metadata": {},
   "outputs": [],
   "source": [
    "df_combine['hp_lag'] = test_hp\n",
    "df_combine['hp'] = test_hp"
   ]
  },
  {
   "cell_type": "code",
   "execution_count": 693,
   "metadata": {},
   "outputs": [
    {
     "data": {
      "text/html": [
       "<div>\n",
       "<style scoped>\n",
       "    .dataframe tbody tr th:only-of-type {\n",
       "        vertical-align: middle;\n",
       "    }\n",
       "\n",
       "    .dataframe tbody tr th {\n",
       "        vertical-align: top;\n",
       "    }\n",
       "\n",
       "    .dataframe thead th {\n",
       "        text-align: right;\n",
       "    }\n",
       "</style>\n",
       "<table border=\"1\" class=\"dataframe\">\n",
       "  <thead>\n",
       "    <tr style=\"text-align: right;\">\n",
       "      <th></th>\n",
       "      <th>index</th>\n",
       "      <th>hp_lag</th>\n",
       "      <th>hp</th>\n",
       "    </tr>\n",
       "  </thead>\n",
       "  <tbody>\n",
       "    <tr>\n",
       "      <th>92</th>\n",
       "      <td>0.003572</td>\n",
       "      <td>0.001111</td>\n",
       "      <td>0.001111</td>\n",
       "    </tr>\n",
       "    <tr>\n",
       "      <th>93</th>\n",
       "      <td>0.003147</td>\n",
       "      <td>0.002220</td>\n",
       "      <td>0.002220</td>\n",
       "    </tr>\n",
       "    <tr>\n",
       "      <th>94</th>\n",
       "      <td>0.003562</td>\n",
       "      <td>0.003322</td>\n",
       "      <td>0.003322</td>\n",
       "    </tr>\n",
       "    <tr>\n",
       "      <th>95</th>\n",
       "      <td>0.002912</td>\n",
       "      <td>0.001104</td>\n",
       "      <td>0.001104</td>\n",
       "    </tr>\n",
       "    <tr>\n",
       "      <th>96</th>\n",
       "      <td>0.002318</td>\n",
       "      <td>0.001103</td>\n",
       "      <td>0.001103</td>\n",
       "    </tr>\n",
       "    <tr>\n",
       "      <th>...</th>\n",
       "      <td>...</td>\n",
       "      <td>...</td>\n",
       "      <td>...</td>\n",
       "    </tr>\n",
       "    <tr>\n",
       "      <th>217</th>\n",
       "      <td>-0.000796</td>\n",
       "      <td>0.010664</td>\n",
       "      <td>0.010664</td>\n",
       "    </tr>\n",
       "    <tr>\n",
       "      <th>218</th>\n",
       "      <td>-0.002896</td>\n",
       "      <td>0.012175</td>\n",
       "      <td>0.012175</td>\n",
       "    </tr>\n",
       "    <tr>\n",
       "      <th>219</th>\n",
       "      <td>-0.001862</td>\n",
       "      <td>0.003208</td>\n",
       "      <td>0.003208</td>\n",
       "    </tr>\n",
       "    <tr>\n",
       "      <th>220</th>\n",
       "      <td>-0.001472</td>\n",
       "      <td>0.004796</td>\n",
       "      <td>0.004796</td>\n",
       "    </tr>\n",
       "    <tr>\n",
       "      <th>221</th>\n",
       "      <td>-0.001190</td>\n",
       "      <td>0.001591</td>\n",
       "      <td>0.001591</td>\n",
       "    </tr>\n",
       "  </tbody>\n",
       "</table>\n",
       "<p>130 rows × 3 columns</p>\n",
       "</div>"
      ],
      "text/plain": [
       "        index    hp_lag        hp\n",
       "92   0.003572  0.001111  0.001111\n",
       "93   0.003147  0.002220  0.002220\n",
       "94   0.003562  0.003322  0.003322\n",
       "95   0.002912  0.001104  0.001104\n",
       "96   0.002318  0.001103  0.001103\n",
       "..        ...       ...       ...\n",
       "217 -0.000796  0.010664  0.010664\n",
       "218 -0.002896  0.012175  0.012175\n",
       "219 -0.001862  0.003208  0.003208\n",
       "220 -0.001472  0.004796  0.004796\n",
       "221 -0.001190  0.001591  0.001591\n",
       "\n",
       "[130 rows x 3 columns]"
      ]
     },
     "execution_count": 693,
     "metadata": {},
     "output_type": "execute_result"
    }
   ],
   "source": [
    "df_combine.dropna()"
   ]
  },
  {
   "cell_type": "code",
   "execution_count": 694,
   "metadata": {},
   "outputs": [],
   "source": [
    "series_lagg = {\n",
    "    'hp': 8,\n",
    "    'hp_lag': 9,\n",
    "}\n",
    "\n",
    "\n",
    "data_clean_non_smooth = data_process_tinator(df_combine,series_lagg)"
   ]
  },
  {
   "cell_type": "markdown",
   "metadata": {},
   "source": []
  },
  {
   "cell_type": "code",
   "execution_count": 695,
   "metadata": {},
   "outputs": [
    {
     "data": {
      "application/vnd.plotly.v1+json": {
       "config": {
        "plotlyServerURL": "https://plot.ly"
       },
       "data": [
        {
         "hovertemplate": "option=index<br>_index=%{x}<br>Level=%{y}<extra></extra>",
         "legendgroup": "index",
         "line": {
          "color": "#636efa",
          "dash": "solid"
         },
         "marker": {
          "symbol": "circle"
         },
         "mode": "lines",
         "name": "index",
         "orientation": "v",
         "showlegend": true,
         "type": "scatter",
         "x": [
          92,
          93,
          94,
          95,
          96,
          97,
          98,
          99,
          100,
          101,
          102,
          103,
          104,
          105,
          106,
          107,
          108,
          109,
          110,
          111,
          112,
          113,
          114,
          115,
          116,
          117,
          118,
          119,
          120,
          121,
          122,
          123,
          124,
          125,
          126,
          127,
          128,
          129,
          130,
          131,
          132,
          133,
          134,
          135,
          136,
          137,
          138,
          139,
          140,
          141,
          142,
          143,
          144,
          145,
          146,
          147,
          148,
          149,
          150,
          151,
          152,
          153,
          154,
          155,
          156,
          157,
          158,
          159,
          160,
          161,
          162,
          163,
          164,
          165,
          166,
          167,
          168,
          169,
          170,
          171,
          172,
          173,
          174,
          175,
          176,
          177,
          178,
          179,
          180,
          181,
          182,
          183,
          184,
          185,
          186,
          187,
          188,
          189,
          190,
          191,
          192,
          193,
          194,
          195,
          196,
          197,
          198,
          199,
          200,
          201,
          202,
          203,
          204,
          205,
          206,
          207,
          208,
          209,
          210,
          211,
          212
         ],
         "xaxis": "x",
         "y": [
          0.0033334194643421587,
          0.0032495238701326676,
          0.0032473136851389165,
          0.0029935308251355704,
          0.0028053457131507367,
          0.0030070663434561694,
          0.0030632915411757063,
          0.0029776816421488495,
          0.003076811449824871,
          0.0031809236041835955,
          0.003044938662402375,
          0.0027658387437609145,
          0.0025859863163637405,
          0.0027639536059600248,
          0.002556952471065797,
          0.0024136349089929504,
          0.0020697788222519913,
          0.0017900926098938193,
          0.0017128379506292518,
          0.001618471803828249,
          0.0014077579638716068,
          0.0011991267429001448,
          0.0013318392497644624,
          0.0016928129407756311,
          0.0019936997708766687,
          0.0022186626506322813,
          0.00238732834631682,
          0.002666457959812017,
          0.0028853533775371086,
          0.0026742633023961776,
          0.002590056697537452,
          0.0027359889440308517,
          0.003025611556454126,
          0.002905309436589649,
          0.002939678962495516,
          0.0031850990802843723,
          0.0035747126048289277,
          0.0032398413510908055,
          0.003036701504641757,
          0.002871547394079429,
          0.002828886747203341,
          0.0032397143543819963,
          0.0032352575909358355,
          0.0030708707856834543,
          0.0030605923667637153,
          0.0033024688455783216,
          0.003352294858060148,
          0.003116492911030287,
          0.002715868057539718,
          0.0027581822982748394,
          0.0029154408914279437,
          0.0030683616432090055,
          0.0027919064734187597,
          0.002862318216353989,
          0.003269283782870702,
          0.003229152403649961,
          0.0027930441457507714,
          0.002653723909829997,
          0.002571337383090061,
          0.002452045763174232,
          0.0025105395800066052,
          0.002286456326762939,
          0.0021837083414341604,
          0.0020940431248652205,
          0.002298009218592642,
          0.0018230544473735058,
          0.0014552399223515394,
          0.0015889087101197696,
          0.0018324760198216387,
          0.001779394960717785,
          0.0014458387755798107,
          0.000983539185284551,
          0.0006477325220585745,
          0.0005039096922459204,
          -0.000005089650906874222,
          -0.0002531376105880309,
          -0.000213145543630134,
          0.0001970895254177319,
          0.0003074439669367698,
          0.00015330292036169898,
          -0.0002937066793368417,
          -0.0006400289350547947,
          -0.0006356738348846044,
          -0.00038233274580324467,
          -0.0005693198504831653,
          -0.0005331553521192137,
          -0.00040842597991865476,
          -0.0006148266471304969,
          -0.0009931670639479234,
          -0.0013295007813990383,
          -0.0008009046416819342,
          -0.00023359617921331889,
          -0.00004371685657698278,
          -0.00016899474824600333,
          -0.0001423601423937383,
          -0.00008507998232716539,
          0.00019666907997954605,
          -0.0001366040823379724,
          -0.00005211459529501823,
          0.00009312414408855172,
          0.0002459004852085661,
          0.0002912219222655976,
          -0.00045671145992672225,
          -0.0004355303365568917,
          0.0009881021085883653,
          0.002533782531844273,
          0.003602766759140132,
          0.003813734448405343,
          0.0036368865582403933,
          0.0038871370486298494,
          0.0037780440488628005,
          0.003951167285370101,
          0.004534643767681016,
          0.005401968408436004,
          0.0060559475695206935,
          0.005588339886987693,
          0.004653058139686597,
          0.0037646961402532375,
          0.0028037467655592637,
          0.002799573259768137,
          0.0030878456000149584
         ],
         "yaxis": "y"
        },
        {
         "hovertemplate": "option=hp_lag<br>_index=%{x}<br>Level=%{y}<extra></extra>",
         "legendgroup": "hp_lag",
         "line": {
          "color": "#EF553B",
          "dash": "solid"
         },
         "marker": {
          "symbol": "circle"
         },
         "mode": "lines",
         "name": "hp_lag",
         "orientation": "v",
         "showlegend": true,
         "type": "scatter",
         "x": [
          92,
          93,
          94,
          95,
          96,
          97,
          98,
          99,
          100,
          101,
          102,
          103,
          104,
          105,
          106,
          107,
          108,
          109,
          110,
          111,
          112,
          113,
          114,
          115,
          116,
          117,
          118,
          119,
          120,
          121,
          122,
          123,
          124,
          125,
          126,
          127,
          128,
          129,
          130,
          131,
          132,
          133,
          134,
          135,
          136,
          137,
          138,
          139,
          140,
          141,
          142,
          143,
          144,
          145,
          146,
          147,
          148,
          149,
          150,
          151,
          152,
          153,
          154,
          155,
          156,
          157,
          158,
          159,
          160,
          161,
          162,
          163,
          164,
          165,
          166,
          167,
          168,
          169,
          170,
          171,
          172,
          173,
          174,
          175,
          176,
          177,
          178,
          179,
          180,
          181,
          182,
          183,
          184,
          185,
          186,
          187,
          188,
          189,
          190,
          191,
          192,
          193,
          194,
          195,
          196,
          197,
          198,
          199,
          200,
          201,
          202,
          203,
          204,
          205,
          206,
          207,
          208,
          209,
          210,
          211,
          212
         ],
         "xaxis": "x",
         "y": [
          0.001747644075145923,
          0.0014568638802366003,
          0.0014610633640539411,
          0.001764548321723358,
          0.0017424298086498532,
          0.0013807773526802241,
          0.0012588819139900964,
          0.0012801611209626608,
          0.001462570303454164,
          0.001090897797674301,
          0.001591943530033879,
          0.0016461139788936444,
          0.001300437413443487,
          0.001138579729497577,
          0.001031970855887764,
          0.0008962378122873108,
          0.0006237063312168449,
          0.000850139915119855,
          0.0009038069662999197,
          0.0016805195905199204,
          0.002097707525068627,
          0.001642583265006938,
          0.0016540679898321138,
          0.0012956854134012342,
          0.0011290782004263692,
          0.0010218516912523924,
          0.0017321065350803294,
          0.0012990687355289355,
          0.0010649497899469116,
          0.0008433363216529394,
          0.00045781748720126475,
          0.00043855264251060194,
          0.0007701299118284209,
          0.0008801147755305571,
          0.0008573713759751395,
          0.0015205250771998333,
          0.0017282075131207033,
          0.0016500513714255204,
          0.0020594701458092344,
          0.0016216625420377292,
          0.0016521694278550962,
          0.0013480971561635464,
          0.0012960563284109456,
          0.0014552671681343132,
          0.0019539494743240748,
          0.002368005572125507,
          0.0030320673609263286,
          0.004480757397442685,
          0.0029633880499684417,
          0.0030045464013523228,
          0.0022039057683412772,
          0.0023583089419225295,
          0.0027848284920489546,
          0.00221665293047709,
          0.0018169852699568485,
          0.0020701050246012143,
          0.0031793087989266406,
          0.0036351564155901123,
          0.005407089363730693,
          0.0051491823827961684,
          0.0034933799287882243,
          0.0030667236878694354,
          0.001968446397246372,
          0.0016667161076887142,
          0.0011434510269256737,
          0.0007590010839010018,
          0.0002065582095475175,
          -0.00018063809716795283,
          -0.0007123448816177855,
          -0.00026504083370457285,
          -0.000029769452755018663,
          0.00018168636599052063,
          0.0005384912775284765,
          0.000550143527287043,
          0.0002267168004256301,
          0.00008466351390472125,
          0.000010341038507589473,
          -0.00005570860608347074,
          -0.00016632513554130752,
          -0.00041000177343219037,
          -0.00020723646124023285,
          -0.00017026031804046166,
          -0.00026949242927305984,
          -0.0005843184839241059,
          -0.0005914055272648227,
          -0.00029567130861531566,
          0.0005402248922680101,
          0.001030847168287567,
          0.000792749120684857,
          0.0004136565711804188,
          0.0011399326474489083,
          0.0012277672447771188,
          0.0022978156379270245,
          0.002111338978556166,
          0.001301794773706609,
          0.0015336863878223396,
          0.002224035277421732,
          0.003925858070340535,
          0.005700294452800958,
          0.008214527046976786,
          0.007414449719798752,
          0.006536542497098165,
          0.006414430315878547,
          0.009199580645007872,
          0.013429423216575954,
          0.012989960324707662,
          0.01430160160619674,
          0.012094595410399039,
          0.008374454354109584,
          0.006526290574211213,
          0.006471567137143677,
          0.00613334655654868,
          0.007311972712718062,
          0.006914016701509346,
          0.0060272071618759585,
          0.007970462106930068,
          0.009005318525607556,
          0.008712846499799856,
          0.005650391933572301,
          0.004542092133128053,
          0.0032305355835507803
         ],
         "yaxis": "y"
        },
        {
         "hovertemplate": "option=hp<br>_index=%{x}<br>Level=%{y}<extra></extra>",
         "legendgroup": "hp",
         "line": {
          "color": "#00cc96",
          "dash": "solid"
         },
         "marker": {
          "symbol": "circle"
         },
         "mode": "lines",
         "name": "hp",
         "orientation": "v",
         "showlegend": true,
         "type": "scatter",
         "x": [
          92,
          93,
          94,
          95,
          96,
          97,
          98,
          99,
          100,
          101,
          102,
          103,
          104,
          105,
          106,
          107,
          108,
          109,
          110,
          111,
          112,
          113,
          114,
          115,
          116,
          117,
          118,
          119,
          120,
          121,
          122,
          123,
          124,
          125,
          126,
          127,
          128,
          129,
          130,
          131,
          132,
          133,
          134,
          135,
          136,
          137,
          138,
          139,
          140,
          141,
          142,
          143,
          144,
          145,
          146,
          147,
          148,
          149,
          150,
          151,
          152,
          153,
          154,
          155,
          156,
          157,
          158,
          159,
          160,
          161,
          162,
          163,
          164,
          165,
          166,
          167,
          168,
          169,
          170,
          171,
          172,
          173,
          174,
          175,
          176,
          177,
          178,
          179,
          180,
          181,
          182,
          183,
          184,
          185,
          186,
          187,
          188,
          189,
          190,
          191,
          192,
          193,
          194,
          195,
          196,
          197,
          198,
          199,
          200,
          201,
          202,
          203,
          204,
          205,
          206,
          207,
          208,
          209,
          210,
          211,
          212
         ],
         "xaxis": "x",
         "y": [
          0.001972955510499183,
          0.0018658206154530447,
          0.0015065221473386117,
          0.0014819299716324515,
          0.0017733165558411752,
          0.0017461142566012316,
          0.0013823255728262662,
          0.0012595324824476353,
          0.0012804344924977275,
          0.0014626851752948115,
          0.0010909460672930472,
          0.001591963813125721,
          0.0016461225019320557,
          0.0013004409948591963,
          0.0011385812344231522,
          0.0010319714882636654,
          0.0008962380780142591,
          0.0006237064428763989,
          0.0008501399620396578,
          0.0009038069860158135,
          0.0016805195988046201,
          0.002097707528549892,
          0.00164258326646978,
          0.0016540679904468061,
          0.0012956854136595304,
          0.0011290782005349063,
          0.001021851691298,
          0.0017321065350994938,
          0.0012990687355369885,
          0.0010649497899502956,
          0.0008433363216543614,
          0.0004578174872018623,
          0.00043855264251085305,
          0.0007701299118285264,
          0.0008801147755306013,
          0.0008573713759751579,
          0.0015205250771998411,
          0.0017282075131207066,
          0.0016500513714255219,
          0.002059470145809235,
          0.0016216625420377296,
          0.0016521694278550962,
          0.0013480971561635464,
          0.0012960563284109456,
          0.0014552671681343132,
          0.0019539494743240748,
          0.002368005572125507,
          0.0030320673609263286,
          0.004480757397442685,
          0.0029633880499684417,
          0.0030045464013523228,
          0.0022039057683412772,
          0.0023583089419225295,
          0.0027848284920489546,
          0.00221665293047709,
          0.0018169852699568485,
          0.0020701050246012143,
          0.0031793087989266406,
          0.0036351564155901123,
          0.005407089363730693,
          0.0051491823827961684,
          0.0034933799287882243,
          0.0030667236878694354,
          0.001968446397246372,
          0.0016667161076887142,
          0.0011434510269256737,
          0.0007590010839010018,
          0.0002065582095475175,
          -0.00018063809716795283,
          -0.0007123448816177855,
          -0.00026504083370457285,
          -0.000029769452755018663,
          0.00018168636599052063,
          0.0005384912775284765,
          0.000550143527287043,
          0.0002267168004256301,
          0.00008466351390472128,
          0.00001034103850758954,
          -0.00005570860608347058,
          -0.00016632513554130715,
          -0.0004100017734321895,
          -0.00020723646124023087,
          -0.00017026031804045697,
          -0.00026949242927304867,
          -0.0005843184839240793,
          -0.0005914055272647596,
          -0.0002956713086151657,
          0.0005402248922683668,
          0.0010308471682884154,
          0.0007927491206868764,
          0.00041365657118522465,
          0.0011399326474603453,
          0.0012277672448043368,
          0.002297815637991798,
          0.0021113389787103145,
          0.0013017947740734512,
          0.0015336863886953492,
          0.002224035279499317,
          0.003925858075284764,
          0.005700294464567213,
          0.00821452707497807,
          0.007414449786436092,
          0.006536542655681433,
          0.0064144306932743585,
          0.009199581543132877,
          0.013429425353930158,
          0.012989965411174427,
          0.014301613710949476,
          0.012094624217239938,
          0.008374522908511362,
          0.0065264537196952944,
          0.006471955390097327,
          0.006134270519334821,
          0.007314171555565604,
          0.006919249498696325,
          0.006039660151151958,
          0.008000097679715885,
          0.009075845140131844,
          0.008880685447682047,
          0.006049814373118147,
          0.00549263601597423
         ],
         "yaxis": "y"
        }
       ],
       "layout": {
        "height": 400,
        "legend": {
         "title": {
          "text": "option"
         },
         "tracegroupgap": 0
        },
        "margin": {
         "t": 60
        },
        "template": {
         "data": {
          "bar": [
           {
            "error_x": {
             "color": "#2a3f5f"
            },
            "error_y": {
             "color": "#2a3f5f"
            },
            "marker": {
             "line": {
              "color": "#E5ECF6",
              "width": 0.5
             },
             "pattern": {
              "fillmode": "overlay",
              "size": 10,
              "solidity": 0.2
             }
            },
            "type": "bar"
           }
          ],
          "barpolar": [
           {
            "marker": {
             "line": {
              "color": "#E5ECF6",
              "width": 0.5
             },
             "pattern": {
              "fillmode": "overlay",
              "size": 10,
              "solidity": 0.2
             }
            },
            "type": "barpolar"
           }
          ],
          "carpet": [
           {
            "aaxis": {
             "endlinecolor": "#2a3f5f",
             "gridcolor": "white",
             "linecolor": "white",
             "minorgridcolor": "white",
             "startlinecolor": "#2a3f5f"
            },
            "baxis": {
             "endlinecolor": "#2a3f5f",
             "gridcolor": "white",
             "linecolor": "white",
             "minorgridcolor": "white",
             "startlinecolor": "#2a3f5f"
            },
            "type": "carpet"
           }
          ],
          "choropleth": [
           {
            "colorbar": {
             "outlinewidth": 0,
             "ticks": ""
            },
            "type": "choropleth"
           }
          ],
          "contour": [
           {
            "colorbar": {
             "outlinewidth": 0,
             "ticks": ""
            },
            "colorscale": [
             [
              0,
              "#0d0887"
             ],
             [
              0.1111111111111111,
              "#46039f"
             ],
             [
              0.2222222222222222,
              "#7201a8"
             ],
             [
              0.3333333333333333,
              "#9c179e"
             ],
             [
              0.4444444444444444,
              "#bd3786"
             ],
             [
              0.5555555555555556,
              "#d8576b"
             ],
             [
              0.6666666666666666,
              "#ed7953"
             ],
             [
              0.7777777777777778,
              "#fb9f3a"
             ],
             [
              0.8888888888888888,
              "#fdca26"
             ],
             [
              1,
              "#f0f921"
             ]
            ],
            "type": "contour"
           }
          ],
          "contourcarpet": [
           {
            "colorbar": {
             "outlinewidth": 0,
             "ticks": ""
            },
            "type": "contourcarpet"
           }
          ],
          "heatmap": [
           {
            "colorbar": {
             "outlinewidth": 0,
             "ticks": ""
            },
            "colorscale": [
             [
              0,
              "#0d0887"
             ],
             [
              0.1111111111111111,
              "#46039f"
             ],
             [
              0.2222222222222222,
              "#7201a8"
             ],
             [
              0.3333333333333333,
              "#9c179e"
             ],
             [
              0.4444444444444444,
              "#bd3786"
             ],
             [
              0.5555555555555556,
              "#d8576b"
             ],
             [
              0.6666666666666666,
              "#ed7953"
             ],
             [
              0.7777777777777778,
              "#fb9f3a"
             ],
             [
              0.8888888888888888,
              "#fdca26"
             ],
             [
              1,
              "#f0f921"
             ]
            ],
            "type": "heatmap"
           }
          ],
          "heatmapgl": [
           {
            "colorbar": {
             "outlinewidth": 0,
             "ticks": ""
            },
            "colorscale": [
             [
              0,
              "#0d0887"
             ],
             [
              0.1111111111111111,
              "#46039f"
             ],
             [
              0.2222222222222222,
              "#7201a8"
             ],
             [
              0.3333333333333333,
              "#9c179e"
             ],
             [
              0.4444444444444444,
              "#bd3786"
             ],
             [
              0.5555555555555556,
              "#d8576b"
             ],
             [
              0.6666666666666666,
              "#ed7953"
             ],
             [
              0.7777777777777778,
              "#fb9f3a"
             ],
             [
              0.8888888888888888,
              "#fdca26"
             ],
             [
              1,
              "#f0f921"
             ]
            ],
            "type": "heatmapgl"
           }
          ],
          "histogram": [
           {
            "marker": {
             "pattern": {
              "fillmode": "overlay",
              "size": 10,
              "solidity": 0.2
             }
            },
            "type": "histogram"
           }
          ],
          "histogram2d": [
           {
            "colorbar": {
             "outlinewidth": 0,
             "ticks": ""
            },
            "colorscale": [
             [
              0,
              "#0d0887"
             ],
             [
              0.1111111111111111,
              "#46039f"
             ],
             [
              0.2222222222222222,
              "#7201a8"
             ],
             [
              0.3333333333333333,
              "#9c179e"
             ],
             [
              0.4444444444444444,
              "#bd3786"
             ],
             [
              0.5555555555555556,
              "#d8576b"
             ],
             [
              0.6666666666666666,
              "#ed7953"
             ],
             [
              0.7777777777777778,
              "#fb9f3a"
             ],
             [
              0.8888888888888888,
              "#fdca26"
             ],
             [
              1,
              "#f0f921"
             ]
            ],
            "type": "histogram2d"
           }
          ],
          "histogram2dcontour": [
           {
            "colorbar": {
             "outlinewidth": 0,
             "ticks": ""
            },
            "colorscale": [
             [
              0,
              "#0d0887"
             ],
             [
              0.1111111111111111,
              "#46039f"
             ],
             [
              0.2222222222222222,
              "#7201a8"
             ],
             [
              0.3333333333333333,
              "#9c179e"
             ],
             [
              0.4444444444444444,
              "#bd3786"
             ],
             [
              0.5555555555555556,
              "#d8576b"
             ],
             [
              0.6666666666666666,
              "#ed7953"
             ],
             [
              0.7777777777777778,
              "#fb9f3a"
             ],
             [
              0.8888888888888888,
              "#fdca26"
             ],
             [
              1,
              "#f0f921"
             ]
            ],
            "type": "histogram2dcontour"
           }
          ],
          "mesh3d": [
           {
            "colorbar": {
             "outlinewidth": 0,
             "ticks": ""
            },
            "type": "mesh3d"
           }
          ],
          "parcoords": [
           {
            "line": {
             "colorbar": {
              "outlinewidth": 0,
              "ticks": ""
             }
            },
            "type": "parcoords"
           }
          ],
          "pie": [
           {
            "automargin": true,
            "type": "pie"
           }
          ],
          "scatter": [
           {
            "fillpattern": {
             "fillmode": "overlay",
             "size": 10,
             "solidity": 0.2
            },
            "type": "scatter"
           }
          ],
          "scatter3d": [
           {
            "line": {
             "colorbar": {
              "outlinewidth": 0,
              "ticks": ""
             }
            },
            "marker": {
             "colorbar": {
              "outlinewidth": 0,
              "ticks": ""
             }
            },
            "type": "scatter3d"
           }
          ],
          "scattercarpet": [
           {
            "marker": {
             "colorbar": {
              "outlinewidth": 0,
              "ticks": ""
             }
            },
            "type": "scattercarpet"
           }
          ],
          "scattergeo": [
           {
            "marker": {
             "colorbar": {
              "outlinewidth": 0,
              "ticks": ""
             }
            },
            "type": "scattergeo"
           }
          ],
          "scattergl": [
           {
            "marker": {
             "colorbar": {
              "outlinewidth": 0,
              "ticks": ""
             }
            },
            "type": "scattergl"
           }
          ],
          "scattermapbox": [
           {
            "marker": {
             "colorbar": {
              "outlinewidth": 0,
              "ticks": ""
             }
            },
            "type": "scattermapbox"
           }
          ],
          "scatterpolar": [
           {
            "marker": {
             "colorbar": {
              "outlinewidth": 0,
              "ticks": ""
             }
            },
            "type": "scatterpolar"
           }
          ],
          "scatterpolargl": [
           {
            "marker": {
             "colorbar": {
              "outlinewidth": 0,
              "ticks": ""
             }
            },
            "type": "scatterpolargl"
           }
          ],
          "scatterternary": [
           {
            "marker": {
             "colorbar": {
              "outlinewidth": 0,
              "ticks": ""
             }
            },
            "type": "scatterternary"
           }
          ],
          "surface": [
           {
            "colorbar": {
             "outlinewidth": 0,
             "ticks": ""
            },
            "colorscale": [
             [
              0,
              "#0d0887"
             ],
             [
              0.1111111111111111,
              "#46039f"
             ],
             [
              0.2222222222222222,
              "#7201a8"
             ],
             [
              0.3333333333333333,
              "#9c179e"
             ],
             [
              0.4444444444444444,
              "#bd3786"
             ],
             [
              0.5555555555555556,
              "#d8576b"
             ],
             [
              0.6666666666666666,
              "#ed7953"
             ],
             [
              0.7777777777777778,
              "#fb9f3a"
             ],
             [
              0.8888888888888888,
              "#fdca26"
             ],
             [
              1,
              "#f0f921"
             ]
            ],
            "type": "surface"
           }
          ],
          "table": [
           {
            "cells": {
             "fill": {
              "color": "#EBF0F8"
             },
             "line": {
              "color": "white"
             }
            },
            "header": {
             "fill": {
              "color": "#C8D4E3"
             },
             "line": {
              "color": "white"
             }
            },
            "type": "table"
           }
          ]
         },
         "layout": {
          "annotationdefaults": {
           "arrowcolor": "#2a3f5f",
           "arrowhead": 0,
           "arrowwidth": 1
          },
          "autotypenumbers": "strict",
          "coloraxis": {
           "colorbar": {
            "outlinewidth": 0,
            "ticks": ""
           }
          },
          "colorscale": {
           "diverging": [
            [
             0,
             "#8e0152"
            ],
            [
             0.1,
             "#c51b7d"
            ],
            [
             0.2,
             "#de77ae"
            ],
            [
             0.3,
             "#f1b6da"
            ],
            [
             0.4,
             "#fde0ef"
            ],
            [
             0.5,
             "#f7f7f7"
            ],
            [
             0.6,
             "#e6f5d0"
            ],
            [
             0.7,
             "#b8e186"
            ],
            [
             0.8,
             "#7fbc41"
            ],
            [
             0.9,
             "#4d9221"
            ],
            [
             1,
             "#276419"
            ]
           ],
           "sequential": [
            [
             0,
             "#0d0887"
            ],
            [
             0.1111111111111111,
             "#46039f"
            ],
            [
             0.2222222222222222,
             "#7201a8"
            ],
            [
             0.3333333333333333,
             "#9c179e"
            ],
            [
             0.4444444444444444,
             "#bd3786"
            ],
            [
             0.5555555555555556,
             "#d8576b"
            ],
            [
             0.6666666666666666,
             "#ed7953"
            ],
            [
             0.7777777777777778,
             "#fb9f3a"
            ],
            [
             0.8888888888888888,
             "#fdca26"
            ],
            [
             1,
             "#f0f921"
            ]
           ],
           "sequentialminus": [
            [
             0,
             "#0d0887"
            ],
            [
             0.1111111111111111,
             "#46039f"
            ],
            [
             0.2222222222222222,
             "#7201a8"
            ],
            [
             0.3333333333333333,
             "#9c179e"
            ],
            [
             0.4444444444444444,
             "#bd3786"
            ],
            [
             0.5555555555555556,
             "#d8576b"
            ],
            [
             0.6666666666666666,
             "#ed7953"
            ],
            [
             0.7777777777777778,
             "#fb9f3a"
            ],
            [
             0.8888888888888888,
             "#fdca26"
            ],
            [
             1,
             "#f0f921"
            ]
           ]
          },
          "colorway": [
           "#636efa",
           "#EF553B",
           "#00cc96",
           "#ab63fa",
           "#FFA15A",
           "#19d3f3",
           "#FF6692",
           "#B6E880",
           "#FF97FF",
           "#FECB52"
          ],
          "font": {
           "color": "#2a3f5f"
          },
          "geo": {
           "bgcolor": "white",
           "lakecolor": "white",
           "landcolor": "#E5ECF6",
           "showlakes": true,
           "showland": true,
           "subunitcolor": "white"
          },
          "hoverlabel": {
           "align": "left"
          },
          "hovermode": "closest",
          "mapbox": {
           "style": "light"
          },
          "paper_bgcolor": "white",
          "plot_bgcolor": "#E5ECF6",
          "polar": {
           "angularaxis": {
            "gridcolor": "white",
            "linecolor": "white",
            "ticks": ""
           },
           "bgcolor": "#E5ECF6",
           "radialaxis": {
            "gridcolor": "white",
            "linecolor": "white",
            "ticks": ""
           }
          },
          "scene": {
           "xaxis": {
            "backgroundcolor": "#E5ECF6",
            "gridcolor": "white",
            "gridwidth": 2,
            "linecolor": "white",
            "showbackground": true,
            "ticks": "",
            "zerolinecolor": "white"
           },
           "yaxis": {
            "backgroundcolor": "#E5ECF6",
            "gridcolor": "white",
            "gridwidth": 2,
            "linecolor": "white",
            "showbackground": true,
            "ticks": "",
            "zerolinecolor": "white"
           },
           "zaxis": {
            "backgroundcolor": "#E5ECF6",
            "gridcolor": "white",
            "gridwidth": 2,
            "linecolor": "white",
            "showbackground": true,
            "ticks": "",
            "zerolinecolor": "white"
           }
          },
          "shapedefaults": {
           "line": {
            "color": "#2a3f5f"
           }
          },
          "ternary": {
           "aaxis": {
            "gridcolor": "white",
            "linecolor": "white",
            "ticks": ""
           },
           "baxis": {
            "gridcolor": "white",
            "linecolor": "white",
            "ticks": ""
           },
           "bgcolor": "#E5ECF6",
           "caxis": {
            "gridcolor": "white",
            "linecolor": "white",
            "ticks": ""
           }
          },
          "title": {
           "x": 0.05
          },
          "xaxis": {
           "automargin": true,
           "gridcolor": "white",
           "linecolor": "white",
           "ticks": "",
           "title": {
            "standoff": 15
           },
           "zerolinecolor": "white",
           "zerolinewidth": 2
          },
          "yaxis": {
           "automargin": true,
           "gridcolor": "white",
           "linecolor": "white",
           "ticks": "",
           "title": {
            "standoff": 15
           },
           "zerolinecolor": "white",
           "zerolinewidth": 2
          }
         }
        },
        "width": 900,
        "xaxis": {
         "anchor": "y",
         "domain": [
          0,
          1
         ],
         "title": {
          "text": "_index"
         }
        },
        "yaxis": {
         "anchor": "x",
         "domain": [
          0,
          1
         ],
         "title": {
          "text": "Level"
         }
        }
       }
      }
     },
     "metadata": {},
     "output_type": "display_data"
    }
   ],
   "source": [
    "\n",
    "data_clean = vt.KalSmoother(data_clean_non_smooth)\n",
    "\n",
    "clean_main = data_clean\n",
    "#clean_main = data_clean_non_smooth\n",
    "\n",
    "fig = px.line(clean_main, color='variable',labels=dict(index=\"time\", value=\"Level\", variable=\"option\"), width=900, height=400)\n",
    "fig.show()"
   ]
  },
  {
   "cell_type": "code",
   "execution_count": 696,
   "metadata": {},
   "outputs": [],
   "source": [
    "from sklearn.linear_model import LinearRegression\n",
    "from sklearn.metrics import mean_squared_error, r2_score\n",
    "\n",
    "X = data_clean[['index','hp_lag']][:].values\n",
    "Y = data_clean[['hp']][:].values\n",
    "\n",
    "\n",
    "######Setting the training length\n",
    "train_size = int(len(X) * 0.30)\n",
    "train_size\n",
    "\n",
    "####Splitting the train and test data set\n",
    "X_train, X_test = X[0:train_size], X[train_size:len(X)]\n",
    "y_train, y_test = Y[0:train_size], Y[train_size:len(X)]"
   ]
  },
  {
   "cell_type": "code",
   "execution_count": 697,
   "metadata": {},
   "outputs": [
    {
     "name": "stdout",
     "output_type": "stream",
     "text": [
      "0.0 0.8201019077136604\n"
     ]
    }
   ],
   "source": [
    "##This for the regression\n",
    "from sklearn.linear_model import LinearRegression\n",
    "from sklearn.metrics import mean_squared_error, r2_score\n",
    "\n",
    "lr = LinearRegression()\n",
    "lr.fit(X_train, y_train)\n",
    "y_pred = lr.predict(X_test)\n",
    "\n",
    "\n",
    "print(np.round(mean_squared_error(y_test, y_pred)*100, decimals=3),\n",
    "\n",
    "#R2 is negative only when the chosen model does not follow the trend of the data, so fits worse than a horizontal line.\n",
    "r2_score(y_test, y_pred))"
   ]
  },
  {
   "cell_type": "code",
   "execution_count": 698,
   "metadata": {},
   "outputs": [
    {
     "name": "stdout",
     "output_type": "stream",
     "text": [
      "[[0.01850552 0.7189308 ]] [0.00032234]\n"
     ]
    },
    {
     "data": {
      "image/png": "[encoded data removed]",
      "text/plain": [
       "<Figure size 432x288 with 1 Axes>"
      ]
     },
     "metadata": {
      "needs_background": "light"
     },
     "output_type": "display_data"
    }
   ],
   "source": [
    "print(lr.coef_, lr.intercept_)\n",
    "\n",
    "plt.plot(y_test, label=\"Actual Values\")\n",
    "plt.plot(y_pred, label=\"Predicted Values\")\n",
    "plt.legend()\n",
    "plt.show()\n"
   ]
  },
  {
   "cell_type": "code",
   "execution_count": 699,
   "metadata": {},
   "outputs": [
    {
     "name": "stdout",
     "output_type": "stream",
     "text": [
      "                        Results: Ordinary least squares\n",
      "================================================================================\n",
      "Model:                  OLS              Adj. R-squared (uncentered): 0.947     \n",
      "Dependent Variable:     y                AIC:                         -915.7099 \n",
      "Date:                   2022-08-05 22:11 BIC:                         -910.8246 \n",
      "No. Observations:       85               Log-Likelihood:              459.85    \n",
      "Df Model:               2                F-statistic:                 753.7     \n",
      "Df Residuals:           83               Prob (F-statistic):          6.01e-54  \n",
      "R-squared (uncentered): 0.948            Scale:                       1.1988e-06\n",
      "--------------------------------------------------------------------------------------\n",
      "            Coef.        Std.Err.          t          P>|t|        [0.025       0.975]\n",
      "--------------------------------------------------------------------------------------\n",
      "x1          0.1913         0.0664        2.8810       0.0050       0.0592       0.3234\n",
      "x2          0.9017         0.0355       25.4327       0.0000       0.8312       0.9722\n",
      "--------------------------------------------------------------------------------\n",
      "Omnibus:                   14.944            Durbin-Watson:               1.225 \n",
      "Prob(Omnibus):             0.001             Jarque-Bera (JB):            24.447\n",
      "Skew:                      0.691             Prob(JB):                    0.000 \n",
      "Kurtosis:                  5.234             Condition No.:               3     \n",
      "================================================================================\n",
      "\n"
     ]
    }
   ],
   "source": [
    "import statsmodels.api as sm\n",
    "\n",
    "log_clf =sm.OLS(y_test,X_test)\n",
    "\n",
    "classifier = log_clf.fit()\n",
    "\n",
    "print(classifier.summary2())"
   ]
  }
 ],
 "metadata": {
  "kernelspec": {
   "display_name": "Python 3.9.7 ('base')",
   "language": "python",
   "name": "python3"
  },
  "language_info": {
   "codemirror_mode": {
    "name": "ipython",
    "version": 3
   },
   "file_extension": ".py",
   "mimetype": "text/x-python",
   "name": "python",
   "nbconvert_exporter": "python",
   "pygments_lexer": "ipython3",
   "version": "3.9.7"
  },
  "orig_nbformat": 4,
  "vscode": {
   "interpreter": {
    "hash": "17aed27dadd270e4b77bce2034d2f99cca6e3b5bab2bdb63ea4acd13fc665357"
   }
  }
 },
 "nbformat": 4,
 "nbformat_minor": 2
}
