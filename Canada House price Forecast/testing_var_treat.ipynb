{
 "cells": [
  {
   "cell_type": "code",
   "execution_count": 463,
   "metadata": {},
   "outputs": [],
   "source": [
    "import pandas as pd\n",
    "\n",
    "from pytrends.request import TrendReq\n",
    "pytrend = TrendReq()\n",
    "\n",
    "from sklearn.decomposition import PCA\n",
    "import statistics as stat\n",
    "import numpy as np\n",
    "import math\n",
    "\n",
    "import matplotlib.pyplot as plt"
   ]
  },
  {
   "cell_type": "code",
   "execution_count": 464,
   "metadata": {},
   "outputs": [],
   "source": [
    "import numpy as np\n",
    "from statsmodels.tsa.stattools import adfuller\n",
    "from obspy.signal.detrend import polynomial\n",
    "from statsmodels.tsa.seasonal import STL\n",
    "from tsmoothie.smoother import ExponentialSmoother, KalmanSmoother"
   ]
  },
  {
   "cell_type": "code",
   "execution_count": 465,
   "metadata": {},
   "outputs": [],
   "source": [
    "\n",
    "def median_tinator(df):\n",
    "    \n",
    "    #Demeaning\n",
    "    for values in df.columns.values:\n",
    "        u = stat.mean(df[values])\n",
    "        std = stat.stdev(df[values])\n",
    "\n",
    "        df[values] = (((df[values] - u)/std) +10)\n",
    "\n",
    "    #This on is with base year\n",
    "    df = df.apply(lambda x: np.floor(((x)/x.iloc[0] * 100)))\n",
    "\n",
    "    #calculating the median\n",
    "    arr = []\n",
    "    for x in df.T.columns.values:    \n",
    "        arr.append(stat.median(df.T[x]))\n",
    "\n",
    "    #Putting the array in dataframe\n",
    "    df_index = pd.DataFrame({'index':arr})\n",
    "    df_index = df_index.set_index(pd.Index(df.T.columns.values[:]))\n",
    "\n",
    "    return df_index\n"
   ]
  },
  {
   "cell_type": "code",
   "execution_count": 466,
   "metadata": {},
   "outputs": [],
   "source": [
    "def Deseasonalize_STL (df):\n",
    "    # This function deseasonalizes the variables\n",
    "    # Input is a the data frame of Google trends and a set of seasonal dummies\n",
    "    deseasonalized = pd.DataFrame(index = df.index)\n",
    "\n",
    "\n",
    "    for columns in df:\n",
    "        # Create model object\n",
    "        stl = STL(df[columns], period = 12)\n",
    "        \n",
    "        # Estimate the model\n",
    "        fit = stl.fit()\n",
    "        # Add the seasonal and trend components  \n",
    "        deas_temp = fit._trend + fit._resid\n",
    "        deseasonalized = deseasonalized.merge(deas_temp.to_frame(), left_index=True, right_index=True)\n",
    "        \n",
    "    deseasonalized.columns = df.columns.values    \n",
    "    return deseasonalized\n",
    "\n",
    "def ExpSmoother(df, window = 4, alpha = 0.3):\n",
    "    result = pd.DataFrame(np.nan, index = df.index, columns = df.columns)\n",
    "    \n",
    "    \n",
    "    smoother = ExponentialSmoother(window_len = window, alpha = alpha)\n",
    "    \n",
    "    for i in range(0,len(df.columns)):\n",
    "        \n",
    "        \n",
    "        smooth = smoother.smooth(df.iloc[:,i])\n",
    "        \n",
    "        result.iloc[:window,i] = df.iloc[:window,i]\n",
    "        \n",
    "        result.iloc[window:,i] = smooth.smooth_data\n",
    "    \n",
    "    return result\n",
    "\n",
    "\n",
    "def KalSmoother(df, level = .9):\n",
    "    \n",
    "    result = pd.DataFrame(np.nan, index = df.index, columns = df.columns)\n",
    "    \n",
    "    #smoother = KalmanSmoother(component='level_trend', \n",
    "                          #component_noise={'level':level, 'trend':trend})\n",
    "                          \n",
    "    smoother = KalmanSmoother(component='level',component_noise={'level':level})                      \n",
    "    \n",
    "    for i in range(0,len(df.columns)):\n",
    "        \n",
    "        \n",
    "        smooth = smoother.smooth(df.iloc[:,i])\n",
    "        \n",
    "        result.iloc[:,i] = np.transpose(smooth.smooth_data)\n",
    "    \n",
    "    return result\n",
    "\n",
    "\n",
    "def Detrend2 (df,significance,lags = 0):\n",
    "    # This function detrends or first differences the Google data\n",
    "    # Input is a the data frame of Google trends and a significance level: '1%', '5%' or '10%'\n",
    "    Outputdf = pd.DataFrame(np.nan, index = df.index, columns = df.columns )\n",
    "    \n",
    "    for columns in df:\n",
    "        # ADF test with a constant\n",
    "        test_c = adfuller(df[columns], regression ='c', autolag='AIC', maxlag = lags)\n",
    "        # ADF test with a constant and linear trend\n",
    "        test_ct = adfuller(df[columns], regression ='ct', autolag='AIC', maxlag = lags)\n",
    "\n",
    "    \n",
    "        # here we test if test stat is lower than critical value\n",
    "        if test_c[0]<=test_c[4][significance]:\n",
    "            residuals_temp = df[columns]\n",
    "        elif test_ct[0]<=test_ct[4][significance]:\n",
    "            residuals_temp = polynomial(df[columns], order=1)\n",
    "        else:\n",
    "            residuals_temp = polynomial(df[columns], order=2)\n",
    "\n",
    "        Outputdf[columns] = residuals_temp\n",
    "\n",
    "    # We remove NaN caused by first differencing\n",
    "    Outputdf = Outputdf.fillna(method='backfill') \n",
    "    \n",
    "    return Outputdf  "
   ]
  },
  {
   "cell_type": "code",
   "execution_count": 467,
   "metadata": {},
   "outputs": [],
   "source": [
    "#Loading the actual house price data\n",
    "filename = 'search_data.xlsx'\n",
    "\n",
    "xls=pd.ExcelFile(filename) \n",
    "df_house_index = pd.read_excel(xls)\n",
    "\n",
    "\n",
    "#Loading the actual house price data\n",
    "filename = 'hp_2.xlsx'\n",
    "\n",
    "xls=pd.ExcelFile(filename) \n",
    "df_hp = pd.read_excel(xls)\n",
    "df_hp = df_hp.set_index(pd.Index(df_house_index.T.columns.values[:150])).iloc[:,:]"
   ]
  },
  {
   "cell_type": "code",
   "execution_count": 468,
   "metadata": {},
   "outputs": [
    {
     "data": {
      "text/html": [
       "<div>\n",
       "<style scoped>\n",
       "    .dataframe tbody tr th:only-of-type {\n",
       "        vertical-align: middle;\n",
       "    }\n",
       "\n",
       "    .dataframe tbody tr th {\n",
       "        vertical-align: top;\n",
       "    }\n",
       "\n",
       "    .dataframe thead th {\n",
       "        text-align: right;\n",
       "    }\n",
       "</style>\n",
       "<table border=\"1\" class=\"dataframe\">\n",
       "  <thead>\n",
       "    <tr style=\"text-align: right;\">\n",
       "      <th></th>\n",
       "      <th>date</th>\n",
       "      <th>CA_house for sale</th>\n",
       "      <th>CA_house for sale ontario</th>\n",
       "      <th>CA_houses for sale</th>\n",
       "      <th>CA_homes for sale</th>\n",
       "      <th>CA_toronto house for sale</th>\n",
       "      <th>CA_house for sale calgary</th>\n",
       "      <th>CA_house for rent</th>\n",
       "      <th>CA_real estate</th>\n",
       "      <th>CA_kijiji house for sale</th>\n",
       "      <th>...</th>\n",
       "      <th>CA_house for sale mississauga</th>\n",
       "      <th>CA_hamilton house for sale</th>\n",
       "      <th>CA_house for sale in calgary</th>\n",
       "      <th>CA_house for sale in brampton</th>\n",
       "      <th>CA_house for sale in surrey</th>\n",
       "      <th>CA_house for sale windsor</th>\n",
       "      <th>CA_for sale by owner</th>\n",
       "      <th>CA_house for sale by owner</th>\n",
       "      <th>CA_house for sale in toronto</th>\n",
       "      <th>CA_house for sale montreal</th>\n",
       "    </tr>\n",
       "  </thead>\n",
       "  <tbody>\n",
       "    <tr>\n",
       "      <th>72</th>\n",
       "      <td>2010-01-01</td>\n",
       "      <td>14</td>\n",
       "      <td>16</td>\n",
       "      <td>16</td>\n",
       "      <td>32</td>\n",
       "      <td>32</td>\n",
       "      <td>9</td>\n",
       "      <td>35</td>\n",
       "      <td>68</td>\n",
       "      <td>17</td>\n",
       "      <td>...</td>\n",
       "      <td>21</td>\n",
       "      <td>8</td>\n",
       "      <td>12</td>\n",
       "      <td>5</td>\n",
       "      <td>5</td>\n",
       "      <td>8</td>\n",
       "      <td>76</td>\n",
       "      <td>68</td>\n",
       "      <td>22</td>\n",
       "      <td>8</td>\n",
       "    </tr>\n",
       "    <tr>\n",
       "      <th>73</th>\n",
       "      <td>2010-02-01</td>\n",
       "      <td>14</td>\n",
       "      <td>21</td>\n",
       "      <td>16</td>\n",
       "      <td>29</td>\n",
       "      <td>36</td>\n",
       "      <td>14</td>\n",
       "      <td>31</td>\n",
       "      <td>64</td>\n",
       "      <td>18</td>\n",
       "      <td>...</td>\n",
       "      <td>27</td>\n",
       "      <td>12</td>\n",
       "      <td>14</td>\n",
       "      <td>8</td>\n",
       "      <td>2</td>\n",
       "      <td>4</td>\n",
       "      <td>77</td>\n",
       "      <td>45</td>\n",
       "      <td>33</td>\n",
       "      <td>10</td>\n",
       "    </tr>\n",
       "    <tr>\n",
       "      <th>74</th>\n",
       "      <td>2010-03-01</td>\n",
       "      <td>16</td>\n",
       "      <td>21</td>\n",
       "      <td>18</td>\n",
       "      <td>32</td>\n",
       "      <td>39</td>\n",
       "      <td>15</td>\n",
       "      <td>38</td>\n",
       "      <td>73</td>\n",
       "      <td>26</td>\n",
       "      <td>...</td>\n",
       "      <td>22</td>\n",
       "      <td>16</td>\n",
       "      <td>14</td>\n",
       "      <td>16</td>\n",
       "      <td>2</td>\n",
       "      <td>12</td>\n",
       "      <td>82</td>\n",
       "      <td>42</td>\n",
       "      <td>49</td>\n",
       "      <td>15</td>\n",
       "    </tr>\n",
       "    <tr>\n",
       "      <th>75</th>\n",
       "      <td>2010-04-01</td>\n",
       "      <td>18</td>\n",
       "      <td>29</td>\n",
       "      <td>18</td>\n",
       "      <td>34</td>\n",
       "      <td>38</td>\n",
       "      <td>13</td>\n",
       "      <td>36</td>\n",
       "      <td>72</td>\n",
       "      <td>19</td>\n",
       "      <td>...</td>\n",
       "      <td>26</td>\n",
       "      <td>15</td>\n",
       "      <td>15</td>\n",
       "      <td>14</td>\n",
       "      <td>1</td>\n",
       "      <td>20</td>\n",
       "      <td>87</td>\n",
       "      <td>60</td>\n",
       "      <td>33</td>\n",
       "      <td>24</td>\n",
       "    </tr>\n",
       "    <tr>\n",
       "      <th>76</th>\n",
       "      <td>2010-05-01</td>\n",
       "      <td>16</td>\n",
       "      <td>21</td>\n",
       "      <td>17</td>\n",
       "      <td>32</td>\n",
       "      <td>53</td>\n",
       "      <td>11</td>\n",
       "      <td>36</td>\n",
       "      <td>67</td>\n",
       "      <td>18</td>\n",
       "      <td>...</td>\n",
       "      <td>26</td>\n",
       "      <td>8</td>\n",
       "      <td>6</td>\n",
       "      <td>11</td>\n",
       "      <td>4</td>\n",
       "      <td>18</td>\n",
       "      <td>80</td>\n",
       "      <td>43</td>\n",
       "      <td>53</td>\n",
       "      <td>17</td>\n",
       "    </tr>\n",
       "  </tbody>\n",
       "</table>\n",
       "<p>5 rows × 27 columns</p>\n",
       "</div>"
      ],
      "text/plain": [
       "         date  CA_house for sale  CA_house for sale ontario  \\\n",
       "72 2010-01-01                 14                         16   \n",
       "73 2010-02-01                 14                         21   \n",
       "74 2010-03-01                 16                         21   \n",
       "75 2010-04-01                 18                         29   \n",
       "76 2010-05-01                 16                         21   \n",
       "\n",
       "    CA_houses for sale  CA_homes for sale  CA_toronto house for sale  \\\n",
       "72                  16                 32                         32   \n",
       "73                  16                 29                         36   \n",
       "74                  18                 32                         39   \n",
       "75                  18                 34                         38   \n",
       "76                  17                 32                         53   \n",
       "\n",
       "    CA_house for sale calgary  CA_house for rent  CA_real estate  \\\n",
       "72                          9                 35              68   \n",
       "73                         14                 31              64   \n",
       "74                         15                 38              73   \n",
       "75                         13                 36              72   \n",
       "76                         11                 36              67   \n",
       "\n",
       "    CA_kijiji house for sale  ...  CA_house for sale mississauga  \\\n",
       "72                        17  ...                             21   \n",
       "73                        18  ...                             27   \n",
       "74                        26  ...                             22   \n",
       "75                        19  ...                             26   \n",
       "76                        18  ...                             26   \n",
       "\n",
       "    CA_hamilton house for sale  CA_house for sale in calgary  \\\n",
       "72                           8                            12   \n",
       "73                          12                            14   \n",
       "74                          16                            14   \n",
       "75                          15                            15   \n",
       "76                           8                             6   \n",
       "\n",
       "    CA_house for sale in brampton  CA_house for sale in surrey  \\\n",
       "72                              5                            5   \n",
       "73                              8                            2   \n",
       "74                             16                            2   \n",
       "75                             14                            1   \n",
       "76                             11                            4   \n",
       "\n",
       "    CA_house for sale windsor  CA_for sale by owner  \\\n",
       "72                          8                    76   \n",
       "73                          4                    77   \n",
       "74                         12                    82   \n",
       "75                         20                    87   \n",
       "76                         18                    80   \n",
       "\n",
       "    CA_house for sale by owner  CA_house for sale in toronto  \\\n",
       "72                          68                            22   \n",
       "73                          45                            33   \n",
       "74                          42                            49   \n",
       "75                          60                            33   \n",
       "76                          43                            53   \n",
       "\n",
       "    CA_house for sale montreal  \n",
       "72                           8  \n",
       "73                          10  \n",
       "74                          15  \n",
       "75                          24  \n",
       "76                          17  \n",
       "\n",
       "[5 rows x 27 columns]"
      ]
     },
     "execution_count": 468,
     "metadata": {},
     "output_type": "execute_result"
    }
   ],
   "source": [
    "df_house_index[72:].head()"
   ]
  },
  {
   "cell_type": "code",
   "execution_count": 469,
   "metadata": {},
   "outputs": [],
   "source": [
    "df_house_index = median_tinator(df_house_index.iloc[72:,1:]).reset_index().iloc[:,1:]"
   ]
  },
  {
   "cell_type": "code",
   "execution_count": 470,
   "metadata": {},
   "outputs": [],
   "source": [
    "test = Deseasonalize_STL (df_house_index)"
   ]
  },
  {
   "cell_type": "code",
   "execution_count": 471,
   "metadata": {},
   "outputs": [],
   "source": [
    "test_2 = ExpSmoother(test)"
   ]
  },
  {
   "cell_type": "code",
   "execution_count": 472,
   "metadata": {},
   "outputs": [],
   "source": [
    "test_3 = KalSmoother(test_2)"
   ]
  },
  {
   "cell_type": "code",
   "execution_count": 473,
   "metadata": {},
   "outputs": [],
   "source": [
    "test_3_d = Detrend2(test_3,significance = '10%')"
   ]
  },
  {
   "cell_type": "code",
   "execution_count": 474,
   "metadata": {},
   "outputs": [],
   "source": [
    "hp_d = Detrend2(df_hp,significance = '10%')"
   ]
  },
  {
   "cell_type": "code",
   "execution_count": null,
   "metadata": {},
   "outputs": [],
   "source": []
  },
  {
   "cell_type": "code",
   "execution_count": 484,
   "metadata": {},
   "outputs": [
    {
     "data": {
      "image/png": "[encoded data removed]",
      "text/plain": [
       "<Figure size 1080x720 with 1 Axes>"
      ]
     },
     "metadata": {},
     "output_type": "display_data"
    }
   ],
   "source": [
    "with plt.style.context('Solarize_Light2'):\n",
    "    plt.rcParams['figure.figsize'] = [15, 10]\n",
    "\n",
    "    # plt.plot(df_house_index[:], color='orange')\n",
    "    # plt.plot(test[:], color='blue')\n",
    "    # plt.plot(test_3[:], color='green')\n",
    "    plt.plot(test_3_d[:], color='blue')\n",
    "    plt.plot(hp_d.iloc[:,1:].shift(periods=-8), color='black')\n",
    "  \n",
    "    #Labling the plot\n",
    "    plt.title('Big Booty Forecast')\n",
    "    plt.ylabel('level changes', fontsize=12)\n",
    "    plt.legend(['HSI Moving Avg','HSI','House Price'], loc='upper center', bbox_to_anchor=(0.5, -0.06),\n",
    "          fancybox=True, shadow=True, ncol=4)\n",
    "\n",
    "plt.show()"
   ]
  },
  {
   "cell_type": "code",
   "execution_count": 590,
   "metadata": {},
   "outputs": [
    {
     "data": {
      "application/vnd.plotly.v1+json": {
       "config": {
        "plotlyServerURL": "https://plot.ly"
       },
       "data": [
        {
         "hovertemplate": "option=index<br>id=%{x}<br>Gang gang sheet=%{y}<extra></extra>",
         "legendgroup": "index",
         "line": {
          "color": "red",
          "dash": "solid"
         },
         "marker": {
          "symbol": "circle"
         },
         "mode": "lines",
         "name": "index",
         "orientation": "v",
         "showlegend": true,
         "type": "scatter",
         "x": [
          0,
          1,
          2,
          3,
          4,
          5,
          6,
          7,
          8,
          9,
          10,
          11,
          12,
          13,
          14,
          15,
          16,
          17,
          18,
          19,
          20,
          21,
          22,
          23,
          24,
          25,
          26,
          27,
          28,
          29,
          30,
          31,
          32,
          33,
          34,
          35,
          36,
          37,
          38,
          39,
          40,
          41,
          42,
          43,
          44,
          45,
          46,
          47,
          48,
          49,
          50,
          51,
          52,
          53,
          54,
          55,
          56,
          57,
          58,
          59,
          60,
          61,
          62,
          63,
          64,
          65,
          66,
          67,
          68,
          69,
          70,
          71,
          72,
          73,
          74,
          75,
          76,
          77,
          78,
          79,
          80,
          81,
          82,
          83,
          84,
          85,
          86,
          87,
          88,
          89,
          90,
          91,
          92,
          93,
          94,
          95,
          96,
          97,
          98,
          99,
          100,
          101,
          102,
          103,
          104,
          105,
          106,
          107,
          108,
          109,
          110,
          111,
          112,
          113,
          114,
          115,
          116,
          117,
          118,
          119,
          120,
          121,
          122,
          123,
          124,
          125,
          126,
          127,
          128,
          129,
          130,
          131,
          132,
          133,
          134,
          135,
          136,
          137,
          138,
          139,
          140,
          141,
          142,
          143,
          144,
          145,
          146,
          147,
          148,
          149,
          150
         ],
         "xaxis": "x",
         "y": [
          -1.0530681518817318,
          0.08665745202667097,
          0.44239278054010356,
          0.627064231331147,
          0.4475945524602878,
          0.15832337272503594,
          -0.0668440636258083,
          -0.2746666372441098,
          -0.4754121229717754,
          -0.635286762168846,
          -0.7164508014982687,
          -0.664248008686414,
          -0.48553779847931366,
          -0.3403547698893732,
          -0.22582927665511932,
          -0.1484186013616977,
          -0.0610124416813278,
          0.2729181432782468,
          0.5546681794844517,
          0.8162175080955052,
          1.0249730785610893,
          0.98135903116642,
          0.8996232006230542,
          0.6322926324707652,
          0.22220664896238418,
          -0.03133826099320913,
          -0.1743324309716172,
          -0.33695764375063675,
          -0.36382356004828864,
          -0.3340301533975918,
          -0.39419430934908917,
          -0.5356734771005449,
          -0.6535794776839907,
          -0.5542922860753947,
          -0.6093916805312745,
          -0.6949381162672097,
          -0.9697814870912254,
          -1.1588334986333564,
          -1.246071388673471,
          -1.279392482444095,
          -1.3795920734374363,
          -1.7602146721190053,
          -1.9357171101608373,
          -1.918410926635019,
          -1.810863046349482,
          -1.4512061557467462,
          -1.0377669556690847,
          -0.6255114965103417,
          -0.09972522603135303,
          0.08550135220477273,
          0.034860062363534894,
          -0.011533119928017754,
          0.17346118596309168,
          0.42859936251416286,
          0.5445542381052917,
          0.7891191525364007,
          1.0677402386908028,
          0.9937582277765955,
          0.8114293106994381,
          0.5205461319921056,
          0.12493040426714686,
          0.026153325441597985,
          0.1018209691523424,
          0.187742921816195,
          0.3594044368522873,
          0.922954737306199,
          1.5501395134626677,
          1.9434061698428167,
          2.0860387553459816,
          2.0091978157767585,
          1.9341986139499028,
          2.0931791286711956,
          2.2518009299352713,
          2.5612939335855316,
          3.1034433223384212,
          3.589649562552424,
          3.6879382008536368,
          3.3586211314648153,
          2.8407060913545195,
          2.2235507076727856,
          1.7866352732550723,
          1.4807740921584696,
          1.3456946106535526,
          1.238758226446393,
          1.4953877916416332,
          1.7036164354448289,
          1.746496428911584,
          1.9090404042544407,
          2.106348378450747,
          2.1491091415037573,
          1.928491721159105,
          1.5018140749900084,
          0.8725397280597633,
          0.5271512906323181,
          0.18498810256214426,
          -0.07417358329458068,
          -0.3648865169035105,
          -0.4974022055887275,
          -0.6282176619880886,
          -1.0572342831758448,
          -1.8174829215747224,
          -2.7922933013953326,
          -3.4006067818185954,
          -3.521437260636361,
          -3.351793375206867,
          -3.0692750850374466,
          -2.83000640756876,
          -2.791425946076089,
          -3.009048342188933,
          -3.6089056212906883,
          -3.758855770168168,
          -3.5017958511245837,
          -3.3661467047461144,
          -3.2205700895055287,
          -3.315289955926218,
          -3.4743271709354815,
          -3.4351945010349425,
          -3.644718810617519,
          -3.7372705591244255,
          -3.995067104305491,
          -4.539219449123209,
          -5.217716880198367,
          -6.419119679207739,
          -6.98886167486144,
          -5.733401645546877,
          -3.152636873200791,
          -0.0436811390622438,
          2.208323894706197,
          3.0122670526395154,
          3.0353164148006044,
          2.9598427044809057,
          3.4100075266865133,
          4.345974114642971,
          5.917279689439113,
          7.57893830142892,
          8.158354014106408,
          7.634697637752424,
          5.936837695208084,
          3.6734017218844315,
          2.1364830256095217,
          1.4900445758713374,
          1.519591322564878,
          1.5868920929393369,
          1.2970772565712423,
          0.7460908544464075,
          -0.23936289247376408,
          -1.2184964945968773,
          -1.8110846770274662,
          -2.4258307563011527,
          -2.7725724081273597,
          -2.856585489416318
         ],
         "yaxis": "y"
        },
        {
         "hovertemplate": "option=HP<br>id=%{x}<br>Gang gang sheet=%{y}<extra></extra>",
         "legendgroup": "HP",
         "line": {
          "color": "yellow",
          "dash": "solid"
         },
         "marker": {
          "symbol": "circle"
         },
         "mode": "lines",
         "name": "HP",
         "orientation": "v",
         "showlegend": true,
         "type": "scatter",
         "x": [
          0,
          1,
          2,
          3,
          4,
          5,
          6,
          7,
          8,
          9,
          10,
          11,
          12,
          13,
          14,
          15,
          16,
          17,
          18,
          19,
          20,
          21,
          22,
          23,
          24,
          25,
          26,
          27,
          28,
          29,
          30,
          31,
          32,
          33,
          34,
          35,
          36,
          37,
          38,
          39,
          40,
          41,
          42,
          43,
          44,
          45,
          46,
          47,
          48,
          49,
          50,
          51,
          52,
          53,
          54,
          55,
          56,
          57,
          58,
          59,
          60,
          61,
          62,
          63,
          64,
          65,
          66,
          67,
          68,
          69,
          70,
          71,
          72,
          73,
          74,
          75,
          76,
          77,
          78,
          79,
          80,
          81,
          82,
          83,
          84,
          85,
          86,
          87,
          88,
          89,
          90,
          91,
          92,
          93,
          94,
          95,
          96,
          97,
          98,
          99,
          100,
          101,
          102,
          103,
          104,
          105,
          106,
          107,
          108,
          109,
          110,
          111,
          112,
          113,
          114,
          115,
          116,
          117,
          118,
          119,
          120,
          121,
          122,
          123,
          124,
          125,
          126,
          127,
          128,
          129,
          130,
          131,
          132,
          133,
          134,
          135,
          136,
          137,
          138,
          139,
          140,
          141,
          142,
          143,
          144,
          145,
          146,
          147,
          148,
          149,
          150
         ],
         "xaxis": "x",
         "y": [
          -1.7780522186448025,
          -1.704996072143956,
          -1.5199035029959589,
          -1.5672061989160397,
          -1.3876619096172078,
          -0.9812706350994063,
          -1.0368957507932492,
          -0.8656738812681652,
          -0.46760502652415425,
          -0.30193143684823553,
          -0.2538425496686614,
          -0.20852780241365565,
          -0.16598719508324677,
          -0.011410165105672831,
          0.2552032875190946,
          0.28942147507575555,
          0.32086552270781965,
          0.46434599298709145,
          0.7198628859134999,
          0.8577950763435922,
          0.9929531268490877,
          1.1253370374299863,
          1.140136245514583,
          1.1521613136745543,
          1.276222804481705,
          1.3975101553643157,
          1.401212803750525,
          1.4021413122121942,
          1.4002956807492524,
          1.5104864719335183,
          1.3882819980496635,
          1.4929245093847356,
          1.594792880795211,
          1.5790765497093702,
          1.5605860786989325,
          1.5393214677639122,
          1.5152827169043093,
          1.3736592635483618,
          1.3440722328395935,
          1.1969004996344808,
          1.2765757516483092,
          1.4682874263092884,
          1.4276038359021896,
          1.498956668142256,
          1.4527247978859776,
          1.403718787705131,
          1.2371280750279254,
          1.412194910141423,
          1.3548664801868,
          1.2947639103076085,
          1.2318872005038344,
          1.0514257882037157,
          0.8681902359790143,
          0.7969911064014781,
          0.7230178368993734,
          0.5314598649009241,
          0.5667488781214018,
          0.5992637514172827,
          0.5141939222168332,
          0.6559710782353392,
          0.565352969185696,
          0.5867712827832463,
          0.4906048938844805,
          0.3916643650611178,
          0.28994969631314405,
          0.3002714502123638,
          0.3078190641870293,
          0.31259253823706956,
          1.0034552477930845,
          0.8878698794221975,
          1.113942058842028,
          0.9928084106219757,
          0.9837111850491027,
          1.201460944695171,
          1.1868154392731327,
          1.0545852313547783,
          0.9195808835117987,
          1.1262340834595506,
          1.1004920183391675,
          1.7608391887247592,
          2.303601656613992,
          2.2695371717198896,
          2.4623196720446714,
          2.307896344729656,
          2.2655094400617486,
          2.1055378328975394,
          1.9427920858087333,
          1.6624616362235969,
          1.3793570467138778,
          0.8638571921360523,
          0.5752043227771679,
          0.28377731349368673,
          -0.010423835714362895,
          -0.19258856227524745,
          -0.37752742876072887,
          -0.6800509977425406,
          -0.985348706648935,
          -1.293420555479912,
          -1.6042665442354718,
          -1.917886672915614,
          -2.349091504092101,
          -2.6682599126214086,
          -2.990202461075313,
          -3.314919149453786,
          -3.7572205403286176,
          -4.202296071128018,
          -4.650145741851986,
          -4.87114842735707,
          -4.980114690214961,
          -5.206665655569196,
          -5.665611885991524,
          -5.782900568623134,
          -6.132584516322865,
          -6.025800353660202,
          -6.036600893493841,
          -6.3946072609673195,
          -6.640577205793633,
          -6.889321290544544,
          -6.796407827504737,
          -6.591457941817779,
          -5.470797695481352,
          -4.926964401928274,
          -4.615526373443316,
          -4.651294172598227,
          -4.115783298818926,
          -2.0905092515313584,
          -1.1013044073141884,
          0.9184213601242277,
          2.361320174779223,
          2.768149786363864,
          2.9425841328803983,
          3.458676027187636,
          3.627562093855005,
          4.482537396028306,
          5.105117433133529,
          5.036059954883626,
          5.882712837283236,
          6.956212704901702,
          8.256559557739138,
          8.291216082362638,
          8.552719592205108,
          8.352206711835947,
          null,
          null,
          null,
          null,
          null,
          null,
          null,
          null,
          null
         ],
         "yaxis": "y"
        }
       ],
       "layout": {
        "height": 700,
        "legend": {
         "title": {
          "text": "option"
         },
         "tracegroupgap": 0
        },
        "margin": {
         "t": 60
        },
        "paper_bgcolor": "Black",
        "plot_bgcolor": "black",
        "template": {
         "data": {
          "bar": [
           {
            "error_x": {
             "color": "#2a3f5f"
            },
            "error_y": {
             "color": "#2a3f5f"
            },
            "marker": {
             "line": {
              "color": "#E5ECF6",
              "width": 0.5
             },
             "pattern": {
              "fillmode": "overlay",
              "size": 10,
              "solidity": 0.2
             }
            },
            "type": "bar"
           }
          ],
          "barpolar": [
           {
            "marker": {
             "line": {
              "color": "#E5ECF6",
              "width": 0.5
             },
             "pattern": {
              "fillmode": "overlay",
              "size": 10,
              "solidity": 0.2
             }
            },
            "type": "barpolar"
           }
          ],
          "carpet": [
           {
            "aaxis": {
             "endlinecolor": "#2a3f5f",
             "gridcolor": "white",
             "linecolor": "white",
             "minorgridcolor": "white",
             "startlinecolor": "#2a3f5f"
            },
            "baxis": {
             "endlinecolor": "#2a3f5f",
             "gridcolor": "white",
             "linecolor": "white",
             "minorgridcolor": "white",
             "startlinecolor": "#2a3f5f"
            },
            "type": "carpet"
           }
          ],
          "choropleth": [
           {
            "colorbar": {
             "outlinewidth": 0,
             "ticks": ""
            },
            "type": "choropleth"
           }
          ],
          "contour": [
           {
            "colorbar": {
             "outlinewidth": 0,
             "ticks": ""
            },
            "colorscale": [
             [
              0,
              "#0d0887"
             ],
             [
              0.1111111111111111,
              "#46039f"
             ],
             [
              0.2222222222222222,
              "#7201a8"
             ],
             [
              0.3333333333333333,
              "#9c179e"
             ],
             [
              0.4444444444444444,
              "#bd3786"
             ],
             [
              0.5555555555555556,
              "#d8576b"
             ],
             [
              0.6666666666666666,
              "#ed7953"
             ],
             [
              0.7777777777777778,
              "#fb9f3a"
             ],
             [
              0.8888888888888888,
              "#fdca26"
             ],
             [
              1,
              "#f0f921"
             ]
            ],
            "type": "contour"
           }
          ],
          "contourcarpet": [
           {
            "colorbar": {
             "outlinewidth": 0,
             "ticks": ""
            },
            "type": "contourcarpet"
           }
          ],
          "heatmap": [
           {
            "colorbar": {
             "outlinewidth": 0,
             "ticks": ""
            },
            "colorscale": [
             [
              0,
              "#0d0887"
             ],
             [
              0.1111111111111111,
              "#46039f"
             ],
             [
              0.2222222222222222,
              "#7201a8"
             ],
             [
              0.3333333333333333,
              "#9c179e"
             ],
             [
              0.4444444444444444,
              "#bd3786"
             ],
             [
              0.5555555555555556,
              "#d8576b"
             ],
             [
              0.6666666666666666,
              "#ed7953"
             ],
             [
              0.7777777777777778,
              "#fb9f3a"
             ],
             [
              0.8888888888888888,
              "#fdca26"
             ],
             [
              1,
              "#f0f921"
             ]
            ],
            "type": "heatmap"
           }
          ],
          "heatmapgl": [
           {
            "colorbar": {
             "outlinewidth": 0,
             "ticks": ""
            },
            "colorscale": [
             [
              0,
              "#0d0887"
             ],
             [
              0.1111111111111111,
              "#46039f"
             ],
             [
              0.2222222222222222,
              "#7201a8"
             ],
             [
              0.3333333333333333,
              "#9c179e"
             ],
             [
              0.4444444444444444,
              "#bd3786"
             ],
             [
              0.5555555555555556,
              "#d8576b"
             ],
             [
              0.6666666666666666,
              "#ed7953"
             ],
             [
              0.7777777777777778,
              "#fb9f3a"
             ],
             [
              0.8888888888888888,
              "#fdca26"
             ],
             [
              1,
              "#f0f921"
             ]
            ],
            "type": "heatmapgl"
           }
          ],
          "histogram": [
           {
            "marker": {
             "pattern": {
              "fillmode": "overlay",
              "size": 10,
              "solidity": 0.2
             }
            },
            "type": "histogram"
           }
          ],
          "histogram2d": [
           {
            "colorbar": {
             "outlinewidth": 0,
             "ticks": ""
            },
            "colorscale": [
             [
              0,
              "#0d0887"
             ],
             [
              0.1111111111111111,
              "#46039f"
             ],
             [
              0.2222222222222222,
              "#7201a8"
             ],
             [
              0.3333333333333333,
              "#9c179e"
             ],
             [
              0.4444444444444444,
              "#bd3786"
             ],
             [
              0.5555555555555556,
              "#d8576b"
             ],
             [
              0.6666666666666666,
              "#ed7953"
             ],
             [
              0.7777777777777778,
              "#fb9f3a"
             ],
             [
              0.8888888888888888,
              "#fdca26"
             ],
             [
              1,
              "#f0f921"
             ]
            ],
            "type": "histogram2d"
           }
          ],
          "histogram2dcontour": [
           {
            "colorbar": {
             "outlinewidth": 0,
             "ticks": ""
            },
            "colorscale": [
             [
              0,
              "#0d0887"
             ],
             [
              0.1111111111111111,
              "#46039f"
             ],
             [
              0.2222222222222222,
              "#7201a8"
             ],
             [
              0.3333333333333333,
              "#9c179e"
             ],
             [
              0.4444444444444444,
              "#bd3786"
             ],
             [
              0.5555555555555556,
              "#d8576b"
             ],
             [
              0.6666666666666666,
              "#ed7953"
             ],
             [
              0.7777777777777778,
              "#fb9f3a"
             ],
             [
              0.8888888888888888,
              "#fdca26"
             ],
             [
              1,
              "#f0f921"
             ]
            ],
            "type": "histogram2dcontour"
           }
          ],
          "mesh3d": [
           {
            "colorbar": {
             "outlinewidth": 0,
             "ticks": ""
            },
            "type": "mesh3d"
           }
          ],
          "parcoords": [
           {
            "line": {
             "colorbar": {
              "outlinewidth": 0,
              "ticks": ""
             }
            },
            "type": "parcoords"
           }
          ],
          "pie": [
           {
            "automargin": true,
            "type": "pie"
           }
          ],
          "scatter": [
           {
            "fillpattern": {
             "fillmode": "overlay",
             "size": 10,
             "solidity": 0.2
            },
            "type": "scatter"
           }
          ],
          "scatter3d": [
           {
            "line": {
             "colorbar": {
              "outlinewidth": 0,
              "ticks": ""
             }
            },
            "marker": {
             "colorbar": {
              "outlinewidth": 0,
              "ticks": ""
             }
            },
            "type": "scatter3d"
           }
          ],
          "scattercarpet": [
           {
            "marker": {
             "colorbar": {
              "outlinewidth": 0,
              "ticks": ""
             }
            },
            "type": "scattercarpet"
           }
          ],
          "scattergeo": [
           {
            "marker": {
             "colorbar": {
              "outlinewidth": 0,
              "ticks": ""
             }
            },
            "type": "scattergeo"
           }
          ],
          "scattergl": [
           {
            "marker": {
             "colorbar": {
              "outlinewidth": 0,
              "ticks": ""
             }
            },
            "type": "scattergl"
           }
          ],
          "scattermapbox": [
           {
            "marker": {
             "colorbar": {
              "outlinewidth": 0,
              "ticks": ""
             }
            },
            "type": "scattermapbox"
           }
          ],
          "scatterpolar": [
           {
            "marker": {
             "colorbar": {
              "outlinewidth": 0,
              "ticks": ""
             }
            },
            "type": "scatterpolar"
           }
          ],
          "scatterpolargl": [
           {
            "marker": {
             "colorbar": {
              "outlinewidth": 0,
              "ticks": ""
             }
            },
            "type": "scatterpolargl"
           }
          ],
          "scatterternary": [
           {
            "marker": {
             "colorbar": {
              "outlinewidth": 0,
              "ticks": ""
             }
            },
            "type": "scatterternary"
           }
          ],
          "surface": [
           {
            "colorbar": {
             "outlinewidth": 0,
             "ticks": ""
            },
            "colorscale": [
             [
              0,
              "#0d0887"
             ],
             [
              0.1111111111111111,
              "#46039f"
             ],
             [
              0.2222222222222222,
              "#7201a8"
             ],
             [
              0.3333333333333333,
              "#9c179e"
             ],
             [
              0.4444444444444444,
              "#bd3786"
             ],
             [
              0.5555555555555556,
              "#d8576b"
             ],
             [
              0.6666666666666666,
              "#ed7953"
             ],
             [
              0.7777777777777778,
              "#fb9f3a"
             ],
             [
              0.8888888888888888,
              "#fdca26"
             ],
             [
              1,
              "#f0f921"
             ]
            ],
            "type": "surface"
           }
          ],
          "table": [
           {
            "cells": {
             "fill": {
              "color": "#EBF0F8"
             },
             "line": {
              "color": "white"
             }
            },
            "header": {
             "fill": {
              "color": "#C8D4E3"
             },
             "line": {
              "color": "white"
             }
            },
            "type": "table"
           }
          ]
         },
         "layout": {
          "annotationdefaults": {
           "arrowcolor": "#2a3f5f",
           "arrowhead": 0,
           "arrowwidth": 1
          },
          "autotypenumbers": "strict",
          "coloraxis": {
           "colorbar": {
            "outlinewidth": 0,
            "ticks": ""
           }
          },
          "colorscale": {
           "diverging": [
            [
             0,
             "#8e0152"
            ],
            [
             0.1,
             "#c51b7d"
            ],
            [
             0.2,
             "#de77ae"
            ],
            [
             0.3,
             "#f1b6da"
            ],
            [
             0.4,
             "#fde0ef"
            ],
            [
             0.5,
             "#f7f7f7"
            ],
            [
             0.6,
             "#e6f5d0"
            ],
            [
             0.7,
             "#b8e186"
            ],
            [
             0.8,
             "#7fbc41"
            ],
            [
             0.9,
             "#4d9221"
            ],
            [
             1,
             "#276419"
            ]
           ],
           "sequential": [
            [
             0,
             "#0d0887"
            ],
            [
             0.1111111111111111,
             "#46039f"
            ],
            [
             0.2222222222222222,
             "#7201a8"
            ],
            [
             0.3333333333333333,
             "#9c179e"
            ],
            [
             0.4444444444444444,
             "#bd3786"
            ],
            [
             0.5555555555555556,
             "#d8576b"
            ],
            [
             0.6666666666666666,
             "#ed7953"
            ],
            [
             0.7777777777777778,
             "#fb9f3a"
            ],
            [
             0.8888888888888888,
             "#fdca26"
            ],
            [
             1,
             "#f0f921"
            ]
           ],
           "sequentialminus": [
            [
             0,
             "#0d0887"
            ],
            [
             0.1111111111111111,
             "#46039f"
            ],
            [
             0.2222222222222222,
             "#7201a8"
            ],
            [
             0.3333333333333333,
             "#9c179e"
            ],
            [
             0.4444444444444444,
             "#bd3786"
            ],
            [
             0.5555555555555556,
             "#d8576b"
            ],
            [
             0.6666666666666666,
             "#ed7953"
            ],
            [
             0.7777777777777778,
             "#fb9f3a"
            ],
            [
             0.8888888888888888,
             "#fdca26"
            ],
            [
             1,
             "#f0f921"
            ]
           ]
          },
          "colorway": [
           "#636efa",
           "#EF553B",
           "#00cc96",
           "#ab63fa",
           "#FFA15A",
           "#19d3f3",
           "#FF6692",
           "#B6E880",
           "#FF97FF",
           "#FECB52"
          ],
          "font": {
           "color": "#2a3f5f"
          },
          "geo": {
           "bgcolor": "white",
           "lakecolor": "white",
           "landcolor": "#E5ECF6",
           "showlakes": true,
           "showland": true,
           "subunitcolor": "white"
          },
          "hoverlabel": {
           "align": "left"
          },
          "hovermode": "closest",
          "mapbox": {
           "style": "light"
          },
          "paper_bgcolor": "white",
          "plot_bgcolor": "#E5ECF6",
          "polar": {
           "angularaxis": {
            "gridcolor": "white",
            "linecolor": "white",
            "ticks": ""
           },
           "bgcolor": "#E5ECF6",
           "radialaxis": {
            "gridcolor": "white",
            "linecolor": "white",
            "ticks": ""
           }
          },
          "scene": {
           "xaxis": {
            "backgroundcolor": "#E5ECF6",
            "gridcolor": "white",
            "gridwidth": 2,
            "linecolor": "white",
            "showbackground": true,
            "ticks": "",
            "zerolinecolor": "white"
           },
           "yaxis": {
            "backgroundcolor": "#E5ECF6",
            "gridcolor": "white",
            "gridwidth": 2,
            "linecolor": "white",
            "showbackground": true,
            "ticks": "",
            "zerolinecolor": "white"
           },
           "zaxis": {
            "backgroundcolor": "#E5ECF6",
            "gridcolor": "white",
            "gridwidth": 2,
            "linecolor": "white",
            "showbackground": true,
            "ticks": "",
            "zerolinecolor": "white"
           }
          },
          "shapedefaults": {
           "line": {
            "color": "#2a3f5f"
           }
          },
          "ternary": {
           "aaxis": {
            "gridcolor": "white",
            "linecolor": "white",
            "ticks": ""
           },
           "baxis": {
            "gridcolor": "white",
            "linecolor": "white",
            "ticks": ""
           },
           "bgcolor": "#E5ECF6",
           "caxis": {
            "gridcolor": "white",
            "linecolor": "white",
            "ticks": ""
           }
          },
          "title": {
           "x": 0.05
          },
          "xaxis": {
           "automargin": true,
           "gridcolor": "white",
           "linecolor": "white",
           "ticks": "",
           "title": {
            "standoff": 15
           },
           "zerolinecolor": "white",
           "zerolinewidth": 2
          },
          "yaxis": {
           "automargin": true,
           "gridcolor": "white",
           "linecolor": "white",
           "ticks": "",
           "title": {
            "standoff": 15
           },
           "zerolinecolor": "white",
           "zerolinewidth": 2
          }
         }
        },
        "width": 900,
        "xaxis": {
         "anchor": "y",
         "domain": [
          0,
          1
         ],
         "showgrid": false,
         "title": {
          "text": "id"
         }
        },
        "yaxis": {
         "anchor": "x",
         "domain": [
          0,
          1
         ],
         "tickprefix": "Yo ",
         "title": {
          "text": "Gang gang sheet"
         }
        }
       }
      }
     },
     "metadata": {},
     "output_type": "display_data"
    }
   ],
   "source": [
    "import numpy as np\n",
    "import pandas as pd\n",
    "import plotly.express as px\n",
    "from plotly.offline import iplot\n",
    "\n",
    "# dataframe of a wide format \n",
    "df=pd.DataFrame(test_3_d[:])\n",
    "\n",
    "df['HP'] = hp_d.iloc[:,1:].shift(periods=-8)\n",
    "df['id']=df.index\n",
    "\n",
    "\n",
    "# dataframe of a long format\n",
    "df = pd.melt(df, id_vars='id', value_vars=df.columns[:])\n",
    "\n",
    "# plotly express\n",
    "fig = px.line(df, x='id', y='value', color='variable',labels=dict(index=\"time\", value=\"Gang gang sheet\", variable=\"option\"), width=900, height=700)\n",
    "fig.update_yaxes(tickprefix=\"Yo \")\n",
    "fig.update_layout(xaxis_showgrid=False)\n",
    "fig.data[0].line.color = \"red\"\n",
    "fig.data[1].line.color = \"yellow\"\n",
    "fig.layout.plot_bgcolor = 'black'\n",
    "fig.layout.paper_bgcolor = 'Black'\n",
    "\n",
    "fig.show()"
   ]
  }
 ],
 "metadata": {
  "kernelspec": {
   "display_name": "Python 3.9.7 ('base')",
   "language": "python",
   "name": "python3"
  },
  "language_info": {
   "codemirror_mode": {
    "name": "ipython",
    "version": 3
   },
   "file_extension": ".py",
   "mimetype": "text/x-python",
   "name": "python",
   "nbconvert_exporter": "python",
   "pygments_lexer": "ipython3",
   "version": "3.9.7"
  },
  "orig_nbformat": 4,
  "vscode": {
   "interpreter": {
    "hash": "17aed27dadd270e4b77bce2034d2f99cca6e3b5bab2bdb63ea4acd13fc665357"
   }
  }
 },
 "nbformat": 4,
 "nbformat_minor": 2
}
